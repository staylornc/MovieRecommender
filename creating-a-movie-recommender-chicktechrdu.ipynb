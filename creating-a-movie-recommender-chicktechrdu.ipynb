{
 "cells": [
  {
   "cell_type": "markdown",
   "metadata": {
    "_uuid": "d7aa1b0ad6979877450f9cd89e1e37289b51cf6e"
   },
   "source": [
    "# **Creating a Movie Recommender System**"
   ]
  },
  {
   "cell_type": "markdown",
   "metadata": {},
   "source": [
    "# The Process\n",
    "\n",
    "![Data Science Overview](https://gitlab.com/staylornc/chicktechaiworkshopncsu/-/raw/master/Movie%20Recommender/assets/images/DataScienceOverview.png)\n",
    "\n",
    "[Image Reference](https://www.oreilly.com/library/view/architectural-patterns/9781787287495/5c8b6daa-6c72-4e9e-a374-6c1c5f31ee0f.xhtml)"
   ]
  },
  {
   "cell_type": "markdown",
   "metadata": {},
   "source": [
    "# The Tools\n",
    "\n",
    "![Data Science Tools](https://gitlab.com/staylornc/chicktechaiworkshopncsu/-/raw/master/Movie%20Recommender/assets/images/DataScienceTools.png)\n",
    "\n",
    "[Image Reference](http://datasciencecornwall.blogspot.com/2018/09/python-for-data-science-top-10-tools.html)"
   ]
  },
  {
   "cell_type": "markdown",
   "metadata": {},
   "source": [
    "We are working in a Jupyter Notebook!"
   ]
  },
  {
   "cell_type": "code",
   "execution_count": 1,
   "metadata": {
    "execution": {
     "iopub.execute_input": "2022-12-04T02:19:34.362452Z",
     "iopub.status.busy": "2022-12-04T02:19:34.361879Z",
     "iopub.status.idle": "2022-12-04T02:19:34.372639Z",
     "shell.execute_reply": "2022-12-04T02:19:34.371742Z",
     "shell.execute_reply.started": "2022-12-04T02:19:34.362376Z"
    }
   },
   "outputs": [
    {
     "name": "stdout",
     "output_type": "stream",
     "text": [
      "Hello, world!\n"
     ]
    }
   ],
   "source": [
    "# This program prints Hello, world!\n",
    "print('Hello, world!')"
   ]
  },
  {
   "cell_type": "markdown",
   "metadata": {},
   "source": [
    "# Step 1 - Determine the problem\n",
    "What is the question we are trying to answer? \n",
    "\n",
    "Have you ever wondered how Spotify or Pandora suggest songs to you based on what is in your playlist? Or when you shop on the American Eagle website how does it know to recommend those \"Frequently bought together items?\" These types of recommendations are now part of our daily lives. They may seem very simple on the surface, but they are actually complext mathematical systems and statistical algorithms used to predict these recommendations. \n",
    "\n",
    "Today, we are going to create a simple movie recommender system using Python."
   ]
  },
  {
   "cell_type": "markdown",
   "metadata": {},
   "source": [
    "# Step 2 - Collect Data\n",
    "\n",
    "We will be using the TMDB [DataSet](https://www.kaggle.com/datasets/tmdb/tmdb-movie-metadata)"
   ]
  },
  {
   "cell_type": "markdown",
   "metadata": {},
   "source": [
    "# Step 3 - Explore the Data\n",
    "This is usually an iterative process. What is in our data and how can we use it, maniuplate it, and understand it to solve our problem?\n",
    "\n",
    "We will use the NumPy and Pandas libraries to help us with this process. NumPy is the foundational library used for computational data science with Python. We use functions in this library to do the math \"heavy lifting\". Pandas is based on NumPy and is mainly used for data manipulation \n",
    "\n",
    "Since we are creating a movie recommender, it makes sense to take a peek at the movie data first. \n",
    "\n",
    "Let's explore some details about it in the Data section of the notebook. About how many movies does it include? When was it last updated?"
   ]
  },
  {
   "cell_type": "markdown",
   "metadata": {},
   "source": [
    "Now, let's import a few useful libraries. The pandas library is used to work with our data and NumPy adds some other tools to work with our data. Go ahead and run the next cell by selecting it and hitting the run button. "
   ]
  },
  {
   "cell_type": "code",
   "execution_count": 2,
   "metadata": {
    "execution": {
     "iopub.execute_input": "2022-12-04T02:19:41.107021Z",
     "iopub.status.busy": "2022-12-04T02:19:41.106666Z",
     "iopub.status.idle": "2022-12-04T02:19:41.111569Z",
     "shell.execute_reply": "2022-12-04T02:19:41.110412Z",
     "shell.execute_reply.started": "2022-12-04T02:19:41.106936Z"
    }
   },
   "outputs": [],
   "source": [
    "import pandas as pd \n",
    "import numpy as np "
   ]
  },
  {
   "cell_type": "markdown",
   "metadata": {
    "_uuid": "6b418588e3f9139f74cb3a9546f5dca49729579b"
   },
   "source": [
    "Let's load the data now. This will load each of the data sets associated with this notebook into the most used pandas data structure,a DataFrame, which basically looks like a table. What does this look like?"
   ]
  },
  {
   "cell_type": "code",
   "execution_count": 3,
   "metadata": {
    "_uuid": "c1fdd129c1cbab68ae3e6bf2062575f01f80b87c",
    "execution": {
     "iopub.execute_input": "2022-12-04T02:19:52.169956Z",
     "iopub.status.busy": "2022-12-04T02:19:52.169577Z",
     "iopub.status.idle": "2022-12-04T02:19:52.714299Z",
     "shell.execute_reply": "2022-12-04T02:19:52.713337Z",
     "shell.execute_reply.started": "2022-12-04T02:19:52.169845Z"
    }
   },
   "outputs": [],
   "source": [
    "movies_credits=pd.read_csv('../input/tmdb-movie-metadata/tmdb_5000_credits.csv')\n",
    "movies_metadata=pd.read_csv('../input/tmdb-movie-metadata/tmdb_5000_movies.csv')"
   ]
  },
  {
   "cell_type": "markdown",
   "metadata": {},
   "source": [
    "We've just loaded each dataset into a dataframe. Let's take a look."
   ]
  },
  {
   "cell_type": "code",
   "execution_count": 4,
   "metadata": {
    "execution": {
     "iopub.execute_input": "2022-12-04T02:20:01.966163Z",
     "iopub.status.busy": "2022-12-04T02:20:01.965834Z",
     "iopub.status.idle": "2022-12-04T02:20:01.998206Z",
     "shell.execute_reply": "2022-12-04T02:20:01.997158Z",
     "shell.execute_reply.started": "2022-12-04T02:20:01.966097Z"
    }
   },
   "outputs": [
    {
     "data": {
      "text/html": [
       "<div>\n",
       "<style scoped>\n",
       "    .dataframe tbody tr th:only-of-type {\n",
       "        vertical-align: middle;\n",
       "    }\n",
       "\n",
       "    .dataframe tbody tr th {\n",
       "        vertical-align: top;\n",
       "    }\n",
       "\n",
       "    .dataframe thead th {\n",
       "        text-align: right;\n",
       "    }\n",
       "</style>\n",
       "<table border=\"1\" class=\"dataframe\">\n",
       "  <thead>\n",
       "    <tr style=\"text-align: right;\">\n",
       "      <th></th>\n",
       "      <th>movie_id</th>\n",
       "      <th>title</th>\n",
       "      <th>cast</th>\n",
       "      <th>crew</th>\n",
       "    </tr>\n",
       "  </thead>\n",
       "  <tbody>\n",
       "    <tr>\n",
       "      <th>0</th>\n",
       "      <td>19995</td>\n",
       "      <td>Avatar</td>\n",
       "      <td>[{\"cast_id\": 242, \"character\": \"Jake Sully\", \"...</td>\n",
       "      <td>[{\"credit_id\": \"52fe48009251416c750aca23\", \"de...</td>\n",
       "    </tr>\n",
       "    <tr>\n",
       "      <th>1</th>\n",
       "      <td>285</td>\n",
       "      <td>Pirates of the Caribbean: At World's End</td>\n",
       "      <td>[{\"cast_id\": 4, \"character\": \"Captain Jack Spa...</td>\n",
       "      <td>[{\"credit_id\": \"52fe4232c3a36847f800b579\", \"de...</td>\n",
       "    </tr>\n",
       "    <tr>\n",
       "      <th>2</th>\n",
       "      <td>206647</td>\n",
       "      <td>Spectre</td>\n",
       "      <td>[{\"cast_id\": 1, \"character\": \"James Bond\", \"cr...</td>\n",
       "      <td>[{\"credit_id\": \"54805967c3a36829b5002c41\", \"de...</td>\n",
       "    </tr>\n",
       "    <tr>\n",
       "      <th>3</th>\n",
       "      <td>49026</td>\n",
       "      <td>The Dark Knight Rises</td>\n",
       "      <td>[{\"cast_id\": 2, \"character\": \"Bruce Wayne / Ba...</td>\n",
       "      <td>[{\"credit_id\": \"52fe4781c3a36847f81398c3\", \"de...</td>\n",
       "    </tr>\n",
       "    <tr>\n",
       "      <th>4</th>\n",
       "      <td>49529</td>\n",
       "      <td>John Carter</td>\n",
       "      <td>[{\"cast_id\": 5, \"character\": \"John Carter\", \"c...</td>\n",
       "      <td>[{\"credit_id\": \"52fe479ac3a36847f813eaa3\", \"de...</td>\n",
       "    </tr>\n",
       "  </tbody>\n",
       "</table>\n",
       "</div>"
      ],
      "text/plain": [
       "   movie_id                        ...                                                                       crew\n",
       "0     19995                        ...                          [{\"credit_id\": \"52fe48009251416c750aca23\", \"de...\n",
       "1       285                        ...                          [{\"credit_id\": \"52fe4232c3a36847f800b579\", \"de...\n",
       "2    206647                        ...                          [{\"credit_id\": \"54805967c3a36829b5002c41\", \"de...\n",
       "3     49026                        ...                          [{\"credit_id\": \"52fe4781c3a36847f81398c3\", \"de...\n",
       "4     49529                        ...                          [{\"credit_id\": \"52fe479ac3a36847f813eaa3\", \"de...\n",
       "\n",
       "[5 rows x 4 columns]"
      ]
     },
     "execution_count": 4,
     "metadata": {},
     "output_type": "execute_result"
    }
   ],
   "source": [
    "movies_credits.head()"
   ]
  },
  {
   "cell_type": "code",
   "execution_count": 5,
   "metadata": {
    "execution": {
     "iopub.execute_input": "2022-12-04T02:20:06.674250Z",
     "iopub.status.busy": "2022-12-04T02:20:06.673902Z",
     "iopub.status.idle": "2022-12-04T02:20:06.729460Z",
     "shell.execute_reply": "2022-12-04T02:20:06.728559Z",
     "shell.execute_reply.started": "2022-12-04T02:20:06.674198Z"
    }
   },
   "outputs": [
    {
     "data": {
      "text/html": [
       "<div>\n",
       "<style scoped>\n",
       "    .dataframe tbody tr th:only-of-type {\n",
       "        vertical-align: middle;\n",
       "    }\n",
       "\n",
       "    .dataframe tbody tr th {\n",
       "        vertical-align: top;\n",
       "    }\n",
       "\n",
       "    .dataframe thead th {\n",
       "        text-align: right;\n",
       "    }\n",
       "</style>\n",
       "<table border=\"1\" class=\"dataframe\">\n",
       "  <thead>\n",
       "    <tr style=\"text-align: right;\">\n",
       "      <th></th>\n",
       "      <th>budget</th>\n",
       "      <th>genres</th>\n",
       "      <th>homepage</th>\n",
       "      <th>id</th>\n",
       "      <th>keywords</th>\n",
       "      <th>original_language</th>\n",
       "      <th>original_title</th>\n",
       "      <th>overview</th>\n",
       "      <th>popularity</th>\n",
       "      <th>production_companies</th>\n",
       "      <th>production_countries</th>\n",
       "      <th>release_date</th>\n",
       "      <th>revenue</th>\n",
       "      <th>runtime</th>\n",
       "      <th>spoken_languages</th>\n",
       "      <th>status</th>\n",
       "      <th>tagline</th>\n",
       "      <th>title</th>\n",
       "      <th>vote_average</th>\n",
       "      <th>vote_count</th>\n",
       "    </tr>\n",
       "  </thead>\n",
       "  <tbody>\n",
       "    <tr>\n",
       "      <th>0</th>\n",
       "      <td>237000000</td>\n",
       "      <td>[{\"id\": 28, \"name\": \"Action\"}, {\"id\": 12, \"nam...</td>\n",
       "      <td>http://www.avatarmovie.com/</td>\n",
       "      <td>19995</td>\n",
       "      <td>[{\"id\": 1463, \"name\": \"culture clash\"}, {\"id\":...</td>\n",
       "      <td>en</td>\n",
       "      <td>Avatar</td>\n",
       "      <td>In the 22nd century, a paraplegic Marine is di...</td>\n",
       "      <td>150.437577</td>\n",
       "      <td>[{\"name\": \"Ingenious Film Partners\", \"id\": 289...</td>\n",
       "      <td>[{\"iso_3166_1\": \"US\", \"name\": \"United States o...</td>\n",
       "      <td>2009-12-10</td>\n",
       "      <td>2787965087</td>\n",
       "      <td>162.0</td>\n",
       "      <td>[{\"iso_639_1\": \"en\", \"name\": \"English\"}, {\"iso...</td>\n",
       "      <td>Released</td>\n",
       "      <td>Enter the World of Pandora.</td>\n",
       "      <td>Avatar</td>\n",
       "      <td>7.2</td>\n",
       "      <td>11800</td>\n",
       "    </tr>\n",
       "    <tr>\n",
       "      <th>1</th>\n",
       "      <td>300000000</td>\n",
       "      <td>[{\"id\": 12, \"name\": \"Adventure\"}, {\"id\": 14, \"...</td>\n",
       "      <td>http://disney.go.com/disneypictures/pirates/</td>\n",
       "      <td>285</td>\n",
       "      <td>[{\"id\": 270, \"name\": \"ocean\"}, {\"id\": 726, \"na...</td>\n",
       "      <td>en</td>\n",
       "      <td>Pirates of the Caribbean: At World's End</td>\n",
       "      <td>Captain Barbossa, long believed to be dead, ha...</td>\n",
       "      <td>139.082615</td>\n",
       "      <td>[{\"name\": \"Walt Disney Pictures\", \"id\": 2}, {\"...</td>\n",
       "      <td>[{\"iso_3166_1\": \"US\", \"name\": \"United States o...</td>\n",
       "      <td>2007-05-19</td>\n",
       "      <td>961000000</td>\n",
       "      <td>169.0</td>\n",
       "      <td>[{\"iso_639_1\": \"en\", \"name\": \"English\"}]</td>\n",
       "      <td>Released</td>\n",
       "      <td>At the end of the world, the adventure begins.</td>\n",
       "      <td>Pirates of the Caribbean: At World's End</td>\n",
       "      <td>6.9</td>\n",
       "      <td>4500</td>\n",
       "    </tr>\n",
       "    <tr>\n",
       "      <th>2</th>\n",
       "      <td>245000000</td>\n",
       "      <td>[{\"id\": 28, \"name\": \"Action\"}, {\"id\": 12, \"nam...</td>\n",
       "      <td>http://www.sonypictures.com/movies/spectre/</td>\n",
       "      <td>206647</td>\n",
       "      <td>[{\"id\": 470, \"name\": \"spy\"}, {\"id\": 818, \"name...</td>\n",
       "      <td>en</td>\n",
       "      <td>Spectre</td>\n",
       "      <td>A cryptic message from Bond’s past sends him o...</td>\n",
       "      <td>107.376788</td>\n",
       "      <td>[{\"name\": \"Columbia Pictures\", \"id\": 5}, {\"nam...</td>\n",
       "      <td>[{\"iso_3166_1\": \"GB\", \"name\": \"United Kingdom\"...</td>\n",
       "      <td>2015-10-26</td>\n",
       "      <td>880674609</td>\n",
       "      <td>148.0</td>\n",
       "      <td>[{\"iso_639_1\": \"fr\", \"name\": \"Fran\\u00e7ais\"},...</td>\n",
       "      <td>Released</td>\n",
       "      <td>A Plan No One Escapes</td>\n",
       "      <td>Spectre</td>\n",
       "      <td>6.3</td>\n",
       "      <td>4466</td>\n",
       "    </tr>\n",
       "    <tr>\n",
       "      <th>3</th>\n",
       "      <td>250000000</td>\n",
       "      <td>[{\"id\": 28, \"name\": \"Action\"}, {\"id\": 80, \"nam...</td>\n",
       "      <td>http://www.thedarkknightrises.com/</td>\n",
       "      <td>49026</td>\n",
       "      <td>[{\"id\": 849, \"name\": \"dc comics\"}, {\"id\": 853,...</td>\n",
       "      <td>en</td>\n",
       "      <td>The Dark Knight Rises</td>\n",
       "      <td>Following the death of District Attorney Harve...</td>\n",
       "      <td>112.312950</td>\n",
       "      <td>[{\"name\": \"Legendary Pictures\", \"id\": 923}, {\"...</td>\n",
       "      <td>[{\"iso_3166_1\": \"US\", \"name\": \"United States o...</td>\n",
       "      <td>2012-07-16</td>\n",
       "      <td>1084939099</td>\n",
       "      <td>165.0</td>\n",
       "      <td>[{\"iso_639_1\": \"en\", \"name\": \"English\"}]</td>\n",
       "      <td>Released</td>\n",
       "      <td>The Legend Ends</td>\n",
       "      <td>The Dark Knight Rises</td>\n",
       "      <td>7.6</td>\n",
       "      <td>9106</td>\n",
       "    </tr>\n",
       "    <tr>\n",
       "      <th>4</th>\n",
       "      <td>260000000</td>\n",
       "      <td>[{\"id\": 28, \"name\": \"Action\"}, {\"id\": 12, \"nam...</td>\n",
       "      <td>http://movies.disney.com/john-carter</td>\n",
       "      <td>49529</td>\n",
       "      <td>[{\"id\": 818, \"name\": \"based on novel\"}, {\"id\":...</td>\n",
       "      <td>en</td>\n",
       "      <td>John Carter</td>\n",
       "      <td>John Carter is a war-weary, former military ca...</td>\n",
       "      <td>43.926995</td>\n",
       "      <td>[{\"name\": \"Walt Disney Pictures\", \"id\": 2}]</td>\n",
       "      <td>[{\"iso_3166_1\": \"US\", \"name\": \"United States o...</td>\n",
       "      <td>2012-03-07</td>\n",
       "      <td>284139100</td>\n",
       "      <td>132.0</td>\n",
       "      <td>[{\"iso_639_1\": \"en\", \"name\": \"English\"}]</td>\n",
       "      <td>Released</td>\n",
       "      <td>Lost in our world, found in another.</td>\n",
       "      <td>John Carter</td>\n",
       "      <td>6.1</td>\n",
       "      <td>2124</td>\n",
       "    </tr>\n",
       "  </tbody>\n",
       "</table>\n",
       "</div>"
      ],
      "text/plain": [
       "      budget    ...     vote_count\n",
       "0  237000000    ...          11800\n",
       "1  300000000    ...           4500\n",
       "2  245000000    ...           4466\n",
       "3  250000000    ...           9106\n",
       "4  260000000    ...           2124\n",
       "\n",
       "[5 rows x 20 columns]"
      ]
     },
     "execution_count": 5,
     "metadata": {},
     "output_type": "execute_result"
    }
   ],
   "source": [
    "movies_metadata.head()"
   ]
  },
  {
   "cell_type": "markdown",
   "metadata": {
    "_uuid": "402a28d17c13bba3f2060d72c2ff75f5377a9f01"
   },
   "source": [
    "The first dataset contains the following features:-\n",
    "\n",
    "* movie_id - A unique identifier for each movie.\n",
    "* cast - The name of lead and supporting actors.\n",
    "* crew - The name of Director, Editor, Composer, Writer etc.\n",
    "\n",
    "The second dataset has the following features:- \n",
    "\n",
    "* budget - The budget in which the movie was made.\n",
    "* genre - The genre of the movie, Action, Comedy ,Thriller etc.\n",
    "* homepage - A link to the homepage of the movie.\n",
    "* id - This is infact the movie_id as in the first dataset.\n",
    "* keywords - The keywords or tags related to the movie.\n",
    "* original_language - The language in which the movie was made.\n",
    "* original_title - The title of the movie before translation or adaptation.\n",
    "* overview - A brief description of the movie.\n",
    "* popularity - A numeric quantity specifying the movie popularity.\n",
    "* production_companies - The production house of the movie.\n",
    "* production_countries - The country in which it was produced.\n",
    "* release_date - The date on which it was released.\n",
    "* revenue - The worldwide revenue generated by the movie.\n",
    "* runtime - The running time of the movie in minutes.\n",
    "* status - \"Released\" or \"Rumored\".\n",
    "* tagline - Movie's tagline.\n",
    "* title - Title of the movie.\n",
    "* vote_average -  average ratings the movie recieved.\n",
    "* vote_count - the count of votes recieved.\n",
    "\n",
    "We'd like to be able to use the data from both tables, so let's join the two dataset on the 'id' column. Notice that in the first dataset, there is a 'movie_id' that is in fact the same as the 'id' in the second dataset.\n"
   ]
  },
  {
   "cell_type": "code",
   "execution_count": 6,
   "metadata": {
    "_uuid": "c87bda9d56a936be126d03eda0bc743ee35be461",
    "execution": {
     "iopub.execute_input": "2022-12-04T02:20:17.036614Z",
     "iopub.status.busy": "2022-12-04T02:20:17.036312Z",
     "iopub.status.idle": "2022-12-04T02:20:17.060667Z",
     "shell.execute_reply": "2022-12-04T02:20:17.059473Z",
     "shell.execute_reply.started": "2022-12-04T02:20:17.036567Z"
    }
   },
   "outputs": [],
   "source": [
    "# Rename the movie_id column to id and then merge the 2 datasets\n",
    "movies_credits.columns = ['id','tittle','cast','crew']\n",
    "movies= movies_metadata.merge(movies_credits,on='id')"
   ]
  },
  {
   "cell_type": "markdown",
   "metadata": {
    "_uuid": "e88ed16f798ec3a094fce8aaf8a971f7b2aae83e"
   },
   "source": [
    "Let's take another look at our data. Notice that the new dataset, movies, now also contains the cast and crew information."
   ]
  },
  {
   "cell_type": "code",
   "execution_count": 7,
   "metadata": {
    "_uuid": "71d266ed92947c51acf07189d3b42379134ef6e7",
    "execution": {
     "iopub.execute_input": "2022-12-04T02:20:21.722987Z",
     "iopub.status.busy": "2022-12-04T02:20:21.722611Z",
     "iopub.status.idle": "2022-12-04T02:20:21.780606Z",
     "shell.execute_reply": "2022-12-04T02:20:21.779410Z",
     "shell.execute_reply.started": "2022-12-04T02:20:21.722920Z"
    }
   },
   "outputs": [
    {
     "data": {
      "text/html": [
       "<div>\n",
       "<style scoped>\n",
       "    .dataframe tbody tr th:only-of-type {\n",
       "        vertical-align: middle;\n",
       "    }\n",
       "\n",
       "    .dataframe tbody tr th {\n",
       "        vertical-align: top;\n",
       "    }\n",
       "\n",
       "    .dataframe thead th {\n",
       "        text-align: right;\n",
       "    }\n",
       "</style>\n",
       "<table border=\"1\" class=\"dataframe\">\n",
       "  <thead>\n",
       "    <tr style=\"text-align: right;\">\n",
       "      <th></th>\n",
       "      <th>budget</th>\n",
       "      <th>genres</th>\n",
       "      <th>homepage</th>\n",
       "      <th>id</th>\n",
       "      <th>keywords</th>\n",
       "      <th>original_language</th>\n",
       "      <th>original_title</th>\n",
       "      <th>overview</th>\n",
       "      <th>popularity</th>\n",
       "      <th>production_companies</th>\n",
       "      <th>production_countries</th>\n",
       "      <th>release_date</th>\n",
       "      <th>revenue</th>\n",
       "      <th>runtime</th>\n",
       "      <th>spoken_languages</th>\n",
       "      <th>status</th>\n",
       "      <th>tagline</th>\n",
       "      <th>title</th>\n",
       "      <th>vote_average</th>\n",
       "      <th>vote_count</th>\n",
       "      <th>tittle</th>\n",
       "      <th>cast</th>\n",
       "      <th>crew</th>\n",
       "    </tr>\n",
       "  </thead>\n",
       "  <tbody>\n",
       "    <tr>\n",
       "      <th>0</th>\n",
       "      <td>237000000</td>\n",
       "      <td>[{\"id\": 28, \"name\": \"Action\"}, {\"id\": 12, \"nam...</td>\n",
       "      <td>http://www.avatarmovie.com/</td>\n",
       "      <td>19995</td>\n",
       "      <td>[{\"id\": 1463, \"name\": \"culture clash\"}, {\"id\":...</td>\n",
       "      <td>en</td>\n",
       "      <td>Avatar</td>\n",
       "      <td>In the 22nd century, a paraplegic Marine is di...</td>\n",
       "      <td>150.437577</td>\n",
       "      <td>[{\"name\": \"Ingenious Film Partners\", \"id\": 289...</td>\n",
       "      <td>[{\"iso_3166_1\": \"US\", \"name\": \"United States o...</td>\n",
       "      <td>2009-12-10</td>\n",
       "      <td>2787965087</td>\n",
       "      <td>162.0</td>\n",
       "      <td>[{\"iso_639_1\": \"en\", \"name\": \"English\"}, {\"iso...</td>\n",
       "      <td>Released</td>\n",
       "      <td>Enter the World of Pandora.</td>\n",
       "      <td>Avatar</td>\n",
       "      <td>7.2</td>\n",
       "      <td>11800</td>\n",
       "      <td>Avatar</td>\n",
       "      <td>[{\"cast_id\": 242, \"character\": \"Jake Sully\", \"...</td>\n",
       "      <td>[{\"credit_id\": \"52fe48009251416c750aca23\", \"de...</td>\n",
       "    </tr>\n",
       "    <tr>\n",
       "      <th>1</th>\n",
       "      <td>300000000</td>\n",
       "      <td>[{\"id\": 12, \"name\": \"Adventure\"}, {\"id\": 14, \"...</td>\n",
       "      <td>http://disney.go.com/disneypictures/pirates/</td>\n",
       "      <td>285</td>\n",
       "      <td>[{\"id\": 270, \"name\": \"ocean\"}, {\"id\": 726, \"na...</td>\n",
       "      <td>en</td>\n",
       "      <td>Pirates of the Caribbean: At World's End</td>\n",
       "      <td>Captain Barbossa, long believed to be dead, ha...</td>\n",
       "      <td>139.082615</td>\n",
       "      <td>[{\"name\": \"Walt Disney Pictures\", \"id\": 2}, {\"...</td>\n",
       "      <td>[{\"iso_3166_1\": \"US\", \"name\": \"United States o...</td>\n",
       "      <td>2007-05-19</td>\n",
       "      <td>961000000</td>\n",
       "      <td>169.0</td>\n",
       "      <td>[{\"iso_639_1\": \"en\", \"name\": \"English\"}]</td>\n",
       "      <td>Released</td>\n",
       "      <td>At the end of the world, the adventure begins.</td>\n",
       "      <td>Pirates of the Caribbean: At World's End</td>\n",
       "      <td>6.9</td>\n",
       "      <td>4500</td>\n",
       "      <td>Pirates of the Caribbean: At World's End</td>\n",
       "      <td>[{\"cast_id\": 4, \"character\": \"Captain Jack Spa...</td>\n",
       "      <td>[{\"credit_id\": \"52fe4232c3a36847f800b579\", \"de...</td>\n",
       "    </tr>\n",
       "    <tr>\n",
       "      <th>2</th>\n",
       "      <td>245000000</td>\n",
       "      <td>[{\"id\": 28, \"name\": \"Action\"}, {\"id\": 12, \"nam...</td>\n",
       "      <td>http://www.sonypictures.com/movies/spectre/</td>\n",
       "      <td>206647</td>\n",
       "      <td>[{\"id\": 470, \"name\": \"spy\"}, {\"id\": 818, \"name...</td>\n",
       "      <td>en</td>\n",
       "      <td>Spectre</td>\n",
       "      <td>A cryptic message from Bond’s past sends him o...</td>\n",
       "      <td>107.376788</td>\n",
       "      <td>[{\"name\": \"Columbia Pictures\", \"id\": 5}, {\"nam...</td>\n",
       "      <td>[{\"iso_3166_1\": \"GB\", \"name\": \"United Kingdom\"...</td>\n",
       "      <td>2015-10-26</td>\n",
       "      <td>880674609</td>\n",
       "      <td>148.0</td>\n",
       "      <td>[{\"iso_639_1\": \"fr\", \"name\": \"Fran\\u00e7ais\"},...</td>\n",
       "      <td>Released</td>\n",
       "      <td>A Plan No One Escapes</td>\n",
       "      <td>Spectre</td>\n",
       "      <td>6.3</td>\n",
       "      <td>4466</td>\n",
       "      <td>Spectre</td>\n",
       "      <td>[{\"cast_id\": 1, \"character\": \"James Bond\", \"cr...</td>\n",
       "      <td>[{\"credit_id\": \"54805967c3a36829b5002c41\", \"de...</td>\n",
       "    </tr>\n",
       "    <tr>\n",
       "      <th>3</th>\n",
       "      <td>250000000</td>\n",
       "      <td>[{\"id\": 28, \"name\": \"Action\"}, {\"id\": 80, \"nam...</td>\n",
       "      <td>http://www.thedarkknightrises.com/</td>\n",
       "      <td>49026</td>\n",
       "      <td>[{\"id\": 849, \"name\": \"dc comics\"}, {\"id\": 853,...</td>\n",
       "      <td>en</td>\n",
       "      <td>The Dark Knight Rises</td>\n",
       "      <td>Following the death of District Attorney Harve...</td>\n",
       "      <td>112.312950</td>\n",
       "      <td>[{\"name\": \"Legendary Pictures\", \"id\": 923}, {\"...</td>\n",
       "      <td>[{\"iso_3166_1\": \"US\", \"name\": \"United States o...</td>\n",
       "      <td>2012-07-16</td>\n",
       "      <td>1084939099</td>\n",
       "      <td>165.0</td>\n",
       "      <td>[{\"iso_639_1\": \"en\", \"name\": \"English\"}]</td>\n",
       "      <td>Released</td>\n",
       "      <td>The Legend Ends</td>\n",
       "      <td>The Dark Knight Rises</td>\n",
       "      <td>7.6</td>\n",
       "      <td>9106</td>\n",
       "      <td>The Dark Knight Rises</td>\n",
       "      <td>[{\"cast_id\": 2, \"character\": \"Bruce Wayne / Ba...</td>\n",
       "      <td>[{\"credit_id\": \"52fe4781c3a36847f81398c3\", \"de...</td>\n",
       "    </tr>\n",
       "    <tr>\n",
       "      <th>4</th>\n",
       "      <td>260000000</td>\n",
       "      <td>[{\"id\": 28, \"name\": \"Action\"}, {\"id\": 12, \"nam...</td>\n",
       "      <td>http://movies.disney.com/john-carter</td>\n",
       "      <td>49529</td>\n",
       "      <td>[{\"id\": 818, \"name\": \"based on novel\"}, {\"id\":...</td>\n",
       "      <td>en</td>\n",
       "      <td>John Carter</td>\n",
       "      <td>John Carter is a war-weary, former military ca...</td>\n",
       "      <td>43.926995</td>\n",
       "      <td>[{\"name\": \"Walt Disney Pictures\", \"id\": 2}]</td>\n",
       "      <td>[{\"iso_3166_1\": \"US\", \"name\": \"United States o...</td>\n",
       "      <td>2012-03-07</td>\n",
       "      <td>284139100</td>\n",
       "      <td>132.0</td>\n",
       "      <td>[{\"iso_639_1\": \"en\", \"name\": \"English\"}]</td>\n",
       "      <td>Released</td>\n",
       "      <td>Lost in our world, found in another.</td>\n",
       "      <td>John Carter</td>\n",
       "      <td>6.1</td>\n",
       "      <td>2124</td>\n",
       "      <td>John Carter</td>\n",
       "      <td>[{\"cast_id\": 5, \"character\": \"John Carter\", \"c...</td>\n",
       "      <td>[{\"credit_id\": \"52fe479ac3a36847f813eaa3\", \"de...</td>\n",
       "    </tr>\n",
       "  </tbody>\n",
       "</table>\n",
       "</div>"
      ],
      "text/plain": [
       "      budget                        ...                                                                       crew\n",
       "0  237000000                        ...                          [{\"credit_id\": \"52fe48009251416c750aca23\", \"de...\n",
       "1  300000000                        ...                          [{\"credit_id\": \"52fe4232c3a36847f800b579\", \"de...\n",
       "2  245000000                        ...                          [{\"credit_id\": \"54805967c3a36829b5002c41\", \"de...\n",
       "3  250000000                        ...                          [{\"credit_id\": \"52fe4781c3a36847f81398c3\", \"de...\n",
       "4  260000000                        ...                          [{\"credit_id\": \"52fe479ac3a36847f813eaa3\", \"de...\n",
       "\n",
       "[5 rows x 23 columns]"
      ]
     },
     "execution_count": 7,
     "metadata": {},
     "output_type": "execute_result"
    }
   ],
   "source": [
    "movies.head()"
   ]
  },
  {
   "cell_type": "markdown",
   "metadata": {},
   "source": [
    "# **Simple Recommender** "
   ]
  },
  {
   "cell_type": "code",
   "execution_count": 8,
   "metadata": {
    "execution": {
     "iopub.execute_input": "2022-12-04T02:21:07.521962Z",
     "iopub.status.busy": "2022-12-04T02:21:07.521620Z",
     "iopub.status.idle": "2022-12-04T02:21:07.554600Z",
     "shell.execute_reply": "2022-12-04T02:21:07.553426Z",
     "shell.execute_reply.started": "2022-12-04T02:21:07.521884Z"
    }
   },
   "outputs": [
    {
     "data": {
      "text/html": [
       "<div>\n",
       "<style scoped>\n",
       "    .dataframe tbody tr th:only-of-type {\n",
       "        vertical-align: middle;\n",
       "    }\n",
       "\n",
       "    .dataframe tbody tr th {\n",
       "        vertical-align: top;\n",
       "    }\n",
       "\n",
       "    .dataframe thead th {\n",
       "        text-align: right;\n",
       "    }\n",
       "</style>\n",
       "<table border=\"1\" class=\"dataframe\">\n",
       "  <thead>\n",
       "    <tr style=\"text-align: right;\">\n",
       "      <th></th>\n",
       "      <th>title</th>\n",
       "      <th>vote_average</th>\n",
       "      <th>revenue</th>\n",
       "      <th>release_date</th>\n",
       "    </tr>\n",
       "  </thead>\n",
       "  <tbody>\n",
       "    <tr>\n",
       "      <th>3519</th>\n",
       "      <td>Stiff Upper Lips</td>\n",
       "      <td>10.0</td>\n",
       "      <td>0</td>\n",
       "      <td>1998-06-12</td>\n",
       "    </tr>\n",
       "    <tr>\n",
       "      <th>4247</th>\n",
       "      <td>Me You and Five Bucks</td>\n",
       "      <td>10.0</td>\n",
       "      <td>0</td>\n",
       "      <td>2015-07-07</td>\n",
       "    </tr>\n",
       "    <tr>\n",
       "      <th>4045</th>\n",
       "      <td>Dancer, Texas Pop. 81</td>\n",
       "      <td>10.0</td>\n",
       "      <td>565592</td>\n",
       "      <td>1998-05-01</td>\n",
       "    </tr>\n",
       "    <tr>\n",
       "      <th>4662</th>\n",
       "      <td>Little Big Top</td>\n",
       "      <td>10.0</td>\n",
       "      <td>0</td>\n",
       "      <td>2006-01-01</td>\n",
       "    </tr>\n",
       "    <tr>\n",
       "      <th>3992</th>\n",
       "      <td>Sardaarji</td>\n",
       "      <td>9.5</td>\n",
       "      <td>0</td>\n",
       "      <td>2015-06-26</td>\n",
       "    </tr>\n",
       "    <tr>\n",
       "      <th>2386</th>\n",
       "      <td>One Man's Hero</td>\n",
       "      <td>9.3</td>\n",
       "      <td>0</td>\n",
       "      <td>1999-08-02</td>\n",
       "    </tr>\n",
       "    <tr>\n",
       "      <th>2970</th>\n",
       "      <td>There Goes My Baby</td>\n",
       "      <td>8.5</td>\n",
       "      <td>123509</td>\n",
       "      <td>1994-09-02</td>\n",
       "    </tr>\n",
       "    <tr>\n",
       "      <th>1881</th>\n",
       "      <td>The Shawshank Redemption</td>\n",
       "      <td>8.5</td>\n",
       "      <td>28341469</td>\n",
       "      <td>1994-09-23</td>\n",
       "    </tr>\n",
       "    <tr>\n",
       "      <th>2796</th>\n",
       "      <td>The Prisoner of Zenda</td>\n",
       "      <td>8.4</td>\n",
       "      <td>0</td>\n",
       "      <td>1937-09-03</td>\n",
       "    </tr>\n",
       "    <tr>\n",
       "      <th>3337</th>\n",
       "      <td>The Godfather</td>\n",
       "      <td>8.4</td>\n",
       "      <td>245066411</td>\n",
       "      <td>1972-03-14</td>\n",
       "    </tr>\n",
       "  </tbody>\n",
       "</table>\n",
       "</div>"
      ],
      "text/plain": [
       "                         title      ...       release_date\n",
       "3519          Stiff Upper Lips      ...         1998-06-12\n",
       "4247     Me You and Five Bucks      ...         2015-07-07\n",
       "4045     Dancer, Texas Pop. 81      ...         1998-05-01\n",
       "4662            Little Big Top      ...         2006-01-01\n",
       "3992                 Sardaarji      ...         2015-06-26\n",
       "2386            One Man's Hero      ...         1999-08-02\n",
       "2970        There Goes My Baby      ...         1994-09-02\n",
       "1881  The Shawshank Redemption      ...         1994-09-23\n",
       "2796     The Prisoner of Zenda      ...         1937-09-03\n",
       "3337             The Godfather      ...         1972-03-14\n",
       "\n",
       "[10 rows x 4 columns]"
      ]
     },
     "execution_count": 8,
     "metadata": {},
     "output_type": "execute_result"
    }
   ],
   "source": [
    "#Sort movies based on the average rating above\n",
    "movies = movies.sort_values('vote_average', ascending=False)\n",
    "\n",
    "#Print the top 10 movies\n",
    "movies[['title', 'vote_average', 'revenue', 'release_date']].head(10)"
   ]
  },
  {
   "cell_type": "markdown",
   "metadata": {},
   "source": [
    "Have you heard of most of these movies? Why do you think that is? "
   ]
  },
  {
   "cell_type": "code",
   "execution_count": 9,
   "metadata": {
    "execution": {
     "iopub.execute_input": "2022-12-04T02:22:02.502287Z",
     "iopub.status.busy": "2022-12-04T02:22:02.501928Z",
     "iopub.status.idle": "2022-12-04T02:22:02.527240Z",
     "shell.execute_reply": "2022-12-04T02:22:02.526165Z",
     "shell.execute_reply.started": "2022-12-04T02:22:02.502244Z"
    }
   },
   "outputs": [
    {
     "data": {
      "text/html": [
       "<div>\n",
       "<style scoped>\n",
       "    .dataframe tbody tr th:only-of-type {\n",
       "        vertical-align: middle;\n",
       "    }\n",
       "\n",
       "    .dataframe tbody tr th {\n",
       "        vertical-align: top;\n",
       "    }\n",
       "\n",
       "    .dataframe thead th {\n",
       "        text-align: right;\n",
       "    }\n",
       "</style>\n",
       "<table border=\"1\" class=\"dataframe\">\n",
       "  <thead>\n",
       "    <tr style=\"text-align: right;\">\n",
       "      <th></th>\n",
       "      <th>title</th>\n",
       "      <th>vote_average</th>\n",
       "      <th>revenue</th>\n",
       "      <th>release_date</th>\n",
       "      <th>vote_count</th>\n",
       "    </tr>\n",
       "  </thead>\n",
       "  <tbody>\n",
       "    <tr>\n",
       "      <th>3519</th>\n",
       "      <td>Stiff Upper Lips</td>\n",
       "      <td>10.0</td>\n",
       "      <td>0</td>\n",
       "      <td>1998-06-12</td>\n",
       "      <td>1</td>\n",
       "    </tr>\n",
       "    <tr>\n",
       "      <th>4247</th>\n",
       "      <td>Me You and Five Bucks</td>\n",
       "      <td>10.0</td>\n",
       "      <td>0</td>\n",
       "      <td>2015-07-07</td>\n",
       "      <td>2</td>\n",
       "    </tr>\n",
       "    <tr>\n",
       "      <th>4045</th>\n",
       "      <td>Dancer, Texas Pop. 81</td>\n",
       "      <td>10.0</td>\n",
       "      <td>565592</td>\n",
       "      <td>1998-05-01</td>\n",
       "      <td>1</td>\n",
       "    </tr>\n",
       "    <tr>\n",
       "      <th>4662</th>\n",
       "      <td>Little Big Top</td>\n",
       "      <td>10.0</td>\n",
       "      <td>0</td>\n",
       "      <td>2006-01-01</td>\n",
       "      <td>1</td>\n",
       "    </tr>\n",
       "    <tr>\n",
       "      <th>3992</th>\n",
       "      <td>Sardaarji</td>\n",
       "      <td>9.5</td>\n",
       "      <td>0</td>\n",
       "      <td>2015-06-26</td>\n",
       "      <td>2</td>\n",
       "    </tr>\n",
       "    <tr>\n",
       "      <th>2386</th>\n",
       "      <td>One Man's Hero</td>\n",
       "      <td>9.3</td>\n",
       "      <td>0</td>\n",
       "      <td>1999-08-02</td>\n",
       "      <td>2</td>\n",
       "    </tr>\n",
       "    <tr>\n",
       "      <th>2970</th>\n",
       "      <td>There Goes My Baby</td>\n",
       "      <td>8.5</td>\n",
       "      <td>123509</td>\n",
       "      <td>1994-09-02</td>\n",
       "      <td>2</td>\n",
       "    </tr>\n",
       "    <tr>\n",
       "      <th>1881</th>\n",
       "      <td>The Shawshank Redemption</td>\n",
       "      <td>8.5</td>\n",
       "      <td>28341469</td>\n",
       "      <td>1994-09-23</td>\n",
       "      <td>8205</td>\n",
       "    </tr>\n",
       "    <tr>\n",
       "      <th>2796</th>\n",
       "      <td>The Prisoner of Zenda</td>\n",
       "      <td>8.4</td>\n",
       "      <td>0</td>\n",
       "      <td>1937-09-03</td>\n",
       "      <td>11</td>\n",
       "    </tr>\n",
       "    <tr>\n",
       "      <th>3337</th>\n",
       "      <td>The Godfather</td>\n",
       "      <td>8.4</td>\n",
       "      <td>245066411</td>\n",
       "      <td>1972-03-14</td>\n",
       "      <td>5893</td>\n",
       "    </tr>\n",
       "  </tbody>\n",
       "</table>\n",
       "</div>"
      ],
      "text/plain": [
       "                         title     ...      vote_count\n",
       "3519          Stiff Upper Lips     ...               1\n",
       "4247     Me You and Five Bucks     ...               2\n",
       "4045     Dancer, Texas Pop. 81     ...               1\n",
       "4662            Little Big Top     ...               1\n",
       "3992                 Sardaarji     ...               2\n",
       "2386            One Man's Hero     ...               2\n",
       "2970        There Goes My Baby     ...               2\n",
       "1881  The Shawshank Redemption     ...            8205\n",
       "2796     The Prisoner of Zenda     ...              11\n",
       "3337             The Godfather     ...            5893\n",
       "\n",
       "[10 rows x 5 columns]"
      ]
     },
     "execution_count": 9,
     "metadata": {},
     "output_type": "execute_result"
    }
   ],
   "source": [
    "#Print the top 10 movies adding another column\n",
    "movies[['title', 'vote_average', 'revenue', 'release_date','vote_count']].head(10)"
   ]
  },
  {
   "cell_type": "markdown",
   "metadata": {},
   "source": [
    "Is this a very good recommender? Why or why not?\n",
    "\n",
    "Let's try a different way to recommend movies - using the 'popularity' of the movie. "
   ]
  },
  {
   "cell_type": "code",
   "execution_count": 10,
   "metadata": {
    "execution": {
     "iopub.execute_input": "2022-12-04T02:22:36.375198Z",
     "iopub.status.busy": "2022-12-04T02:22:36.374861Z",
     "iopub.status.idle": "2022-12-04T02:22:36.404830Z",
     "shell.execute_reply": "2022-12-04T02:22:36.403899Z",
     "shell.execute_reply.started": "2022-12-04T02:22:36.375140Z"
    }
   },
   "outputs": [
    {
     "data": {
      "text/html": [
       "<div>\n",
       "<style scoped>\n",
       "    .dataframe tbody tr th:only-of-type {\n",
       "        vertical-align: middle;\n",
       "    }\n",
       "\n",
       "    .dataframe tbody tr th {\n",
       "        vertical-align: top;\n",
       "    }\n",
       "\n",
       "    .dataframe thead th {\n",
       "        text-align: right;\n",
       "    }\n",
       "</style>\n",
       "<table border=\"1\" class=\"dataframe\">\n",
       "  <thead>\n",
       "    <tr style=\"text-align: right;\">\n",
       "      <th></th>\n",
       "      <th>title</th>\n",
       "      <th>vote_average</th>\n",
       "      <th>revenue</th>\n",
       "      <th>release_date</th>\n",
       "      <th>vote_count</th>\n",
       "    </tr>\n",
       "  </thead>\n",
       "  <tbody>\n",
       "    <tr>\n",
       "      <th>546</th>\n",
       "      <td>Minions</td>\n",
       "      <td>6.4</td>\n",
       "      <td>1156730962</td>\n",
       "      <td>2015-06-17</td>\n",
       "      <td>4571</td>\n",
       "    </tr>\n",
       "    <tr>\n",
       "      <th>95</th>\n",
       "      <td>Interstellar</td>\n",
       "      <td>8.1</td>\n",
       "      <td>675120017</td>\n",
       "      <td>2014-11-05</td>\n",
       "      <td>10867</td>\n",
       "    </tr>\n",
       "    <tr>\n",
       "      <th>788</th>\n",
       "      <td>Deadpool</td>\n",
       "      <td>7.4</td>\n",
       "      <td>783112979</td>\n",
       "      <td>2016-02-09</td>\n",
       "      <td>10995</td>\n",
       "    </tr>\n",
       "    <tr>\n",
       "      <th>94</th>\n",
       "      <td>Guardians of the Galaxy</td>\n",
       "      <td>7.9</td>\n",
       "      <td>773328629</td>\n",
       "      <td>2014-07-30</td>\n",
       "      <td>9742</td>\n",
       "    </tr>\n",
       "    <tr>\n",
       "      <th>127</th>\n",
       "      <td>Mad Max: Fury Road</td>\n",
       "      <td>7.2</td>\n",
       "      <td>378858340</td>\n",
       "      <td>2015-05-13</td>\n",
       "      <td>9427</td>\n",
       "    </tr>\n",
       "    <tr>\n",
       "      <th>28</th>\n",
       "      <td>Jurassic World</td>\n",
       "      <td>6.5</td>\n",
       "      <td>1513528810</td>\n",
       "      <td>2015-06-09</td>\n",
       "      <td>8662</td>\n",
       "    </tr>\n",
       "    <tr>\n",
       "      <th>199</th>\n",
       "      <td>Pirates of the Caribbean: The Curse of the Bla...</td>\n",
       "      <td>7.5</td>\n",
       "      <td>655011224</td>\n",
       "      <td>2003-07-09</td>\n",
       "      <td>6985</td>\n",
       "    </tr>\n",
       "    <tr>\n",
       "      <th>82</th>\n",
       "      <td>Dawn of the Planet of the Apes</td>\n",
       "      <td>7.3</td>\n",
       "      <td>710644566</td>\n",
       "      <td>2014-06-26</td>\n",
       "      <td>4410</td>\n",
       "    </tr>\n",
       "    <tr>\n",
       "      <th>200</th>\n",
       "      <td>The Hunger Games: Mockingjay - Part 1</td>\n",
       "      <td>6.6</td>\n",
       "      <td>752100229</td>\n",
       "      <td>2014-11-18</td>\n",
       "      <td>5584</td>\n",
       "    </tr>\n",
       "    <tr>\n",
       "      <th>88</th>\n",
       "      <td>Big Hero 6</td>\n",
       "      <td>7.8</td>\n",
       "      <td>652105443</td>\n",
       "      <td>2014-10-24</td>\n",
       "      <td>6135</td>\n",
       "    </tr>\n",
       "  </tbody>\n",
       "</table>\n",
       "</div>"
      ],
      "text/plain": [
       "                                                 title     ...      vote_count\n",
       "546                                            Minions     ...            4571\n",
       "95                                        Interstellar     ...           10867\n",
       "788                                           Deadpool     ...           10995\n",
       "94                             Guardians of the Galaxy     ...            9742\n",
       "127                                 Mad Max: Fury Road     ...            9427\n",
       "28                                      Jurassic World     ...            8662\n",
       "199  Pirates of the Caribbean: The Curse of the Bla...     ...            6985\n",
       "82                      Dawn of the Planet of the Apes     ...            4410\n",
       "200              The Hunger Games: Mockingjay - Part 1     ...            5584\n",
       "88                                          Big Hero 6     ...            6135\n",
       "\n",
       "[10 rows x 5 columns]"
      ]
     },
     "execution_count": 10,
     "metadata": {},
     "output_type": "execute_result"
    }
   ],
   "source": [
    "#Sort movies based on the average rating above\n",
    "movies = movies.sort_values('popularity', ascending=False)\n",
    "\n",
    "#Print the top 10 movies\n",
    "movies[['title', 'vote_average', 'revenue', 'release_date', 'vote_count']].head(10)"
   ]
  },
  {
   "cell_type": "markdown",
   "metadata": {},
   "source": [
    "How do these results look? Are there more recognizable movies in that list? How do you think '[popularity](https://developers.themoviedb.org/3/getting-started/popularity)' is defined?\n",
    "\n",
    "With this, we have created a very simple movie recommender."
   ]
  },
  {
   "cell_type": "code",
   "execution_count": 11,
   "metadata": {
    "_uuid": "207f7058f92698b5fd776f7771a3ac0cc2928bf1",
    "execution": {
     "iopub.execute_input": "2022-12-04T02:29:13.728965Z",
     "iopub.status.busy": "2022-12-04T02:29:13.728633Z",
     "iopub.status.idle": "2022-12-04T02:29:14.136424Z",
     "shell.execute_reply": "2022-12-04T02:29:14.135151Z",
     "shell.execute_reply.started": "2022-12-04T02:29:13.728917Z"
    }
   },
   "outputs": [
    {
     "data": {
      "text/plain": [
       "Text(0.5,1,'Popular Movies')"
      ]
     },
     "execution_count": 11,
     "metadata": {},
     "output_type": "execute_result"
    },
    {
     "data": {
      "image/png": "[encoded data removed]",
      "text/plain": [
       "<Figure size 864x288 with 1 Axes>"
      ]
     },
     "metadata": {},
     "output_type": "display_data"
    }
   ],
   "source": [
    "pop= movies.sort_values('popularity', ascending=False)\n",
    "import matplotlib.pyplot as plt\n",
    "plt.figure(figsize=(12,4))\n",
    "\n",
    "plt.barh(pop['title'].head(6),pop['popularity'].head(6), align='center',\n",
    "        color='skyblue')\n",
    "plt.gca().invert_yaxis()\n",
    "plt.xlabel(\"Popularity\")\n",
    "plt.title(\"Popular Movies\")\n"
   ]
  },
  {
   "cell_type": "markdown",
   "metadata": {
    "_uuid": "ee603279675033fc397f0c94738e20b34f35312b"
   },
   "source": [
    "# **IMDB's Recommender Algorithm** -\n",
    "   Before getting started with this  -\n",
    "* we need a metric to score or rate movie \n",
    "* Calculate the score for every movie \n",
    "* Sort the scores and recommend the best rated movie to the users.\n",
    "\n",
    "We can use the average ratings of the movie as the score but using this won't be fair enough since a movie with 8.9 average rating and only 3 votes cannot be considered better than the movie with 7.8 as as average rating but 40 votes.\n",
    "So, I'll be using IMDB's weighted rating (wr) which is given as :-\n",
    "\n",
    "![](https://image.ibb.co/jYWZp9/wr.png)\n",
    "where,\n",
    "* v is the number of votes for the movie;\n",
    "* m is the minimum votes required to be listed in the chart;\n",
    "* R is the average rating of the movie; And\n",
    "* C is the mean vote across the whole report\n",
    "\n",
    "We already have v(**vote_count**) and R (**vote_average**) and C can be calculated as "
   ]
  },
  {
   "cell_type": "code",
   "execution_count": 12,
   "metadata": {
    "_uuid": "5799b99c5e5ed5b7723ae8b31e1fc9fb1e7b89ec",
    "execution": {
     "iopub.execute_input": "2022-12-04T02:25:24.922304Z",
     "iopub.status.busy": "2022-12-04T02:25:24.921953Z",
     "iopub.status.idle": "2022-12-04T02:25:24.929048Z",
     "shell.execute_reply": "2022-12-04T02:25:24.928130Z",
     "shell.execute_reply.started": "2022-12-04T02:25:24.922244Z"
    }
   },
   "outputs": [
    {
     "data": {
      "text/plain": [
       "6.092171559442022"
      ]
     },
     "execution_count": 12,
     "metadata": {},
     "output_type": "execute_result"
    }
   ],
   "source": [
    "C= movies['vote_average'].mean()\n",
    "C"
   ]
  },
  {
   "cell_type": "markdown",
   "metadata": {
    "_uuid": "02fa8642f75bcef6d4a79e029af6dfeebf19e3a5"
   },
   "source": [
    "So, the mean rating for all the movies is approx 6 on a scale of 10.The next step is to determine an appropriate value for m, the minimum votes required to be listed in the chart. We will use 90th percentile as our cutoff. In other words, for a movie to feature in the charts, it must have more votes than at least 90% of the movies in the list."
   ]
  },
  {
   "cell_type": "code",
   "execution_count": 13,
   "metadata": {
    "_uuid": "f2f1eaff1e4349b5d2d11dd5ce79c19a85561148",
    "execution": {
     "iopub.execute_input": "2022-12-04T02:25:31.748473Z",
     "iopub.status.busy": "2022-12-04T02:25:31.748168Z",
     "iopub.status.idle": "2022-12-04T02:25:31.756717Z",
     "shell.execute_reply": "2022-12-04T02:25:31.755764Z",
     "shell.execute_reply.started": "2022-12-04T02:25:31.748417Z"
    }
   },
   "outputs": [
    {
     "data": {
      "text/plain": [
       "1838.4000000000015"
      ]
     },
     "execution_count": 13,
     "metadata": {},
     "output_type": "execute_result"
    }
   ],
   "source": [
    "m= movies['vote_count'].quantile(0.9)\n",
    "m"
   ]
  },
  {
   "cell_type": "markdown",
   "metadata": {
    "_uuid": "b77dea5a38ca2c399e3abeac1487e784fe146078"
   },
   "source": [
    "Now, we can filter out the movies that qualify for the chart "
   ]
  },
  {
   "cell_type": "code",
   "execution_count": 14,
   "metadata": {
    "_uuid": "a22008df6d81d3b716d39a56efd3d547345bfbce",
    "execution": {
     "iopub.execute_input": "2022-12-04T02:25:56.577158Z",
     "iopub.status.busy": "2022-12-04T02:25:56.576648Z",
     "iopub.status.idle": "2022-12-04T02:25:56.588110Z",
     "shell.execute_reply": "2022-12-04T02:25:56.586970Z",
     "shell.execute_reply.started": "2022-12-04T02:25:56.577110Z"
    }
   },
   "outputs": [
    {
     "data": {
      "text/plain": [
       "(481, 23)"
      ]
     },
     "execution_count": 14,
     "metadata": {},
     "output_type": "execute_result"
    }
   ],
   "source": [
    "q_movies = movies.copy().loc[movies['vote_count'] >= m]\n",
    "q_movies.shape"
   ]
  },
  {
   "cell_type": "markdown",
   "metadata": {
    "_uuid": "cf1fe5a3692caee41a6e7a74c3fde6aeb8a62947"
   },
   "source": [
    "We see that there are 481 movies which qualify to be in this list. Now, we need to calculate our metric for each qualified movie. To do this, we will define a function, **weighted_rating()** and define a new feature **score**, of which we'll calculate the value by applying this function to our DataFrame of qualified movies:"
   ]
  },
  {
   "cell_type": "code",
   "execution_count": 15,
   "metadata": {
    "_uuid": "bb680ed0fb1c3020785d34152c57c6e2279d4424",
    "execution": {
     "iopub.execute_input": "2022-12-04T02:26:13.994553Z",
     "iopub.status.busy": "2022-12-04T02:26:13.993865Z",
     "iopub.status.idle": "2022-12-04T02:26:14.000477Z",
     "shell.execute_reply": "2022-12-04T02:26:13.999181Z",
     "shell.execute_reply.started": "2022-12-04T02:26:13.994484Z"
    }
   },
   "outputs": [],
   "source": [
    "def weighted_rating(x, m=m, C=C):\n",
    "    v = x['vote_count']\n",
    "    R = x['vote_average']\n",
    "    # Calculation based on the IMDB formula\n",
    "    return (v/(v+m) * R) + (m/(m+v) * C)"
   ]
  },
  {
   "cell_type": "code",
   "execution_count": 16,
   "metadata": {
    "_uuid": "d2d189929715237ab19a18fb8747239b86092968",
    "execution": {
     "iopub.execute_input": "2022-12-04T02:26:42.004790Z",
     "iopub.status.busy": "2022-12-04T02:26:42.004504Z",
     "iopub.status.idle": "2022-12-04T02:26:42.076602Z",
     "shell.execute_reply": "2022-12-04T02:26:42.075658Z",
     "shell.execute_reply.started": "2022-12-04T02:26:42.004745Z"
    }
   },
   "outputs": [],
   "source": [
    "# Define a new feature 'score' and calculate its value with `weighted_rating()`\n",
    "q_movies['score'] = q_movies.apply(weighted_rating, axis=1)"
   ]
  },
  {
   "cell_type": "markdown",
   "metadata": {
    "_uuid": "4cdd60c146173606146ec4fc3a1c9d8c184cb81c"
   },
   "source": [
    "Finally, let's sort the DataFrame based on the score feature and output the title, vote count, vote average and weighted rating or score of the top 10 movies."
   ]
  },
  {
   "cell_type": "code",
   "execution_count": 17,
   "metadata": {
    "_uuid": "a9a9fc3810ea67c31908bbdf8bb930daa918102b",
    "execution": {
     "iopub.execute_input": "2022-12-04T02:26:51.795504Z",
     "iopub.status.busy": "2022-12-04T02:26:51.795200Z",
     "iopub.status.idle": "2022-12-04T02:26:51.817559Z",
     "shell.execute_reply": "2022-12-04T02:26:51.816794Z",
     "shell.execute_reply.started": "2022-12-04T02:26:51.795455Z"
    }
   },
   "outputs": [
    {
     "data": {
      "text/html": [
       "<div>\n",
       "<style scoped>\n",
       "    .dataframe tbody tr th:only-of-type {\n",
       "        vertical-align: middle;\n",
       "    }\n",
       "\n",
       "    .dataframe tbody tr th {\n",
       "        vertical-align: top;\n",
       "    }\n",
       "\n",
       "    .dataframe thead th {\n",
       "        text-align: right;\n",
       "    }\n",
       "</style>\n",
       "<table border=\"1\" class=\"dataframe\">\n",
       "  <thead>\n",
       "    <tr style=\"text-align: right;\">\n",
       "      <th></th>\n",
       "      <th>title</th>\n",
       "      <th>vote_count</th>\n",
       "      <th>vote_average</th>\n",
       "      <th>score</th>\n",
       "    </tr>\n",
       "  </thead>\n",
       "  <tbody>\n",
       "    <tr>\n",
       "      <th>1881</th>\n",
       "      <td>The Shawshank Redemption</td>\n",
       "      <td>8205</td>\n",
       "      <td>8.5</td>\n",
       "      <td>8.059258</td>\n",
       "    </tr>\n",
       "    <tr>\n",
       "      <th>662</th>\n",
       "      <td>Fight Club</td>\n",
       "      <td>9413</td>\n",
       "      <td>8.3</td>\n",
       "      <td>7.939256</td>\n",
       "    </tr>\n",
       "    <tr>\n",
       "      <th>65</th>\n",
       "      <td>The Dark Knight</td>\n",
       "      <td>12002</td>\n",
       "      <td>8.2</td>\n",
       "      <td>7.920020</td>\n",
       "    </tr>\n",
       "    <tr>\n",
       "      <th>3232</th>\n",
       "      <td>Pulp Fiction</td>\n",
       "      <td>8428</td>\n",
       "      <td>8.3</td>\n",
       "      <td>7.904645</td>\n",
       "    </tr>\n",
       "    <tr>\n",
       "      <th>96</th>\n",
       "      <td>Inception</td>\n",
       "      <td>13752</td>\n",
       "      <td>8.1</td>\n",
       "      <td>7.863239</td>\n",
       "    </tr>\n",
       "    <tr>\n",
       "      <th>3337</th>\n",
       "      <td>The Godfather</td>\n",
       "      <td>5893</td>\n",
       "      <td>8.4</td>\n",
       "      <td>7.851236</td>\n",
       "    </tr>\n",
       "    <tr>\n",
       "      <th>95</th>\n",
       "      <td>Interstellar</td>\n",
       "      <td>10867</td>\n",
       "      <td>8.1</td>\n",
       "      <td>7.809479</td>\n",
       "    </tr>\n",
       "    <tr>\n",
       "      <th>809</th>\n",
       "      <td>Forrest Gump</td>\n",
       "      <td>7927</td>\n",
       "      <td>8.2</td>\n",
       "      <td>7.803188</td>\n",
       "    </tr>\n",
       "    <tr>\n",
       "      <th>329</th>\n",
       "      <td>The Lord of the Rings: The Return of the King</td>\n",
       "      <td>8064</td>\n",
       "      <td>8.1</td>\n",
       "      <td>7.727243</td>\n",
       "    </tr>\n",
       "    <tr>\n",
       "      <th>1990</th>\n",
       "      <td>The Empire Strikes Back</td>\n",
       "      <td>5879</td>\n",
       "      <td>8.2</td>\n",
       "      <td>7.697884</td>\n",
       "    </tr>\n",
       "  </tbody>\n",
       "</table>\n",
       "</div>"
      ],
      "text/plain": [
       "                                              title    ...        score\n",
       "1881                       The Shawshank Redemption    ...     8.059258\n",
       "662                                      Fight Club    ...     7.939256\n",
       "65                                  The Dark Knight    ...     7.920020\n",
       "3232                                   Pulp Fiction    ...     7.904645\n",
       "96                                        Inception    ...     7.863239\n",
       "3337                                  The Godfather    ...     7.851236\n",
       "95                                     Interstellar    ...     7.809479\n",
       "809                                    Forrest Gump    ...     7.803188\n",
       "329   The Lord of the Rings: The Return of the King    ...     7.727243\n",
       "1990                        The Empire Strikes Back    ...     7.697884\n",
       "\n",
       "[10 rows x 4 columns]"
      ]
     },
     "execution_count": 17,
     "metadata": {},
     "output_type": "execute_result"
    }
   ],
   "source": [
    "#Sort movies based on score calculated above\n",
    "q_movies = q_movies.sort_values('score', ascending=False)\n",
    "\n",
    "#Print the top 15 movies\n",
    "q_movies[['title', 'vote_count', 'vote_average', 'score']].head(10)"
   ]
  },
  {
   "cell_type": "code",
   "execution_count": 18,
   "metadata": {
    "_uuid": "207f7058f92698b5fd776f7771a3ac0cc2928bf1",
    "execution": {
     "iopub.execute_input": "2022-12-04T02:54:28.542572Z",
     "iopub.status.busy": "2022-12-04T02:54:28.542224Z",
     "iopub.status.idle": "2022-12-04T02:54:29.000526Z",
     "shell.execute_reply": "2022-12-04T02:54:28.999518Z",
     "shell.execute_reply.started": "2022-12-04T02:54:28.542507Z"
    }
   },
   "outputs": [
    {
     "data": {
      "text/plain": [
       "Text(0.5,1,\"Popular Movies using IMDB's Algorithm\")"
      ]
     },
     "execution_count": 18,
     "metadata": {},
     "output_type": "execute_result"
    },
    {
     "data": {
      "image/png": "[encoded data removed]",
      "text/plain": [
       "<Figure size 864x288 with 1 Axes>"
      ]
     },
     "metadata": {},
     "output_type": "display_data"
    }
   ],
   "source": [
    "pop= q_movies.sort_values('score', ascending=False)\n",
    "import matplotlib.pyplot as plt\n",
    "plt.figure(figsize=(12,4))\n",
    "\n",
    "plt.barh(pop['title'].head(10),pop['score'].head(10), align='center',\n",
    "        color='blue')\n",
    "plt.gca().invert_yaxis()\n",
    "plt.xlabel(\"Score\")\n",
    "plt.title(\"Popular Movies using IMDB's Algorithm\")\n"
   ]
  },
  {
   "cell_type": "markdown",
   "metadata": {
    "_uuid": "7625c6d5bd647f4f75eafd7880b7ca2d07938cf7"
   },
   "source": [
    "Hurray! We have made our second(though very basic) recommender.\n",
    "Under the **Trending Now** tab of these systems we find movies that are very popular and they can just be obtained by sorting the dataset by the popularity column."
   ]
  },
  {
   "cell_type": "markdown",
   "metadata": {
    "_uuid": "d1cf28fc0c22afa80edc6d464177035357721d35"
   },
   "source": [
    "Now something to keep in mind is that these demographic recommenders provide a general chart of recommended movies to all the users. They are not sensitive to the interests and tastes of a particular user.\n",
    "This is when we move on to a more refined system-  Content Basesd Filtering. "
   ]
  },
  {
   "cell_type": "markdown",
   "metadata": {
    "_uuid": "fe716df6e5e5a354ac53d556087147c0a64df2cc"
   },
   "source": [
    "# **Content Based Filtering**\n",
    "In this recommender system the content of the movie (overview, cast, crew, keyword, tagline etc) is used to find its similarity with other movies. Then the movies that are most likely to be similar are recommended.\n",
    "\n",
    "![](https://image.ibb.co/f6mDXU/conten.png)"
   ]
  },
  {
   "cell_type": "markdown",
   "metadata": {
    "_uuid": "b0a813c803b0ba1f0204188ab2a63dc7f59ce2eb"
   },
   "source": [
    "## **Plot description based Recommender**\n",
    "\n",
    "We will compute pairwise similarity scores for all movies based on their plot descriptions and recommend movies based on that similarity score. The plot description is given in the **overview** feature of our dataset. \n",
    "Let's take a look at the data. .. "
   ]
  },
  {
   "cell_type": "code",
   "execution_count": 19,
   "metadata": {
    "_uuid": "5e676c38ace04a24205b76b16dac0fa3e058027f",
    "execution": {
     "iopub.execute_input": "2022-12-04T02:55:49.157623Z",
     "iopub.status.busy": "2022-12-04T02:55:49.157279Z",
     "iopub.status.idle": "2022-12-04T02:55:49.165682Z",
     "shell.execute_reply": "2022-12-04T02:55:49.164862Z",
     "shell.execute_reply.started": "2022-12-04T02:55:49.157571Z"
    }
   },
   "outputs": [
    {
     "data": {
      "text/plain": [
       "546    Minions Stuart, Kevin and Bob are recruited by...\n",
       "95     Interstellar chronicles the adventures of a gr...\n",
       "788    Deadpool tells the origin story of former Spec...\n",
       "94     Light years from Earth, 26 years after being a...\n",
       "127    An apocalyptic story set in the furthest reach...\n",
       "Name: overview, dtype: object"
      ]
     },
     "execution_count": 19,
     "metadata": {},
     "output_type": "execute_result"
    }
   ],
   "source": [
    "movies['overview'].head(5)"
   ]
  },
  {
   "cell_type": "markdown",
   "metadata": {
    "_uuid": "277a9bb5b00a6bd2469c45777f9c659066f402b3"
   },
   "source": [
    "\n",
    "\n",
    "TF-IDF was invented for document search and information retrieval. It works by increasing proportionally to the number of times a word appears in a document, but is offset by the number of documents that contain the word. So, words that are common in every document, such as this, what, and if, rank low even though they may appear many times, since they don’t mean much to that document in particular.\n",
    "\n",
    "\n",
    "For any of you who has done even a  bit of text processing before knows we need to convert the word vector of each overview.\n",
    "Now we'll compute Term Frequency-Inverse Document Frequency (TF-IDF) vectors for each overview.\n",
    "\n",
    "Now if you are wondering what is term frequency , it is the relative frequency of a word in a document and is given as\n",
    "   **(term instances/total instances)**.\n",
    "Inverse Document Frequency is the relative count of documents containing the term is given as \n",
    "**log(number of documents/documents with term)**\n",
    "The overall importance of each word to the documents in which they appear is equal to **TF * IDF**\n",
    "\n",
    "This will give you a matrix where each column represents a word in the overview vocabulary (all the words that appear in at least one document) and each row represents a movie, as before.This is done to reduce the importance of words that occur frequently in plot overviews and therefore, their significance in computing the final similarity score.\n",
    "\n",
    "Fortunately, scikit-learn gives you a built-in TfIdfVectorizer class that produces the TF-IDF matrix in a couple of lines. That's great, isn't it? "
   ]
  },
  {
   "cell_type": "code",
   "execution_count": 20,
   "metadata": {
    "_uuid": "a92da8cde39c61deef5a1b8efa31ed84cda7f5fe",
    "execution": {
     "iopub.execute_input": "2022-12-04T02:57:04.816712Z",
     "iopub.status.busy": "2022-12-04T02:57:04.816389Z",
     "iopub.status.idle": "2022-12-04T02:57:06.346143Z",
     "shell.execute_reply": "2022-12-04T02:57:06.345009Z",
     "shell.execute_reply.started": "2022-12-04T02:57:04.816662Z"
    }
   },
   "outputs": [
    {
     "data": {
      "text/plain": [
       "(4803, 20978)"
      ]
     },
     "execution_count": 20,
     "metadata": {},
     "output_type": "execute_result"
    }
   ],
   "source": [
    "#Import TfIdfVectorizer from scikit-learn\n",
    "from sklearn.feature_extraction.text import TfidfVectorizer\n",
    "\n",
    "#Define a TF-IDF Vectorizer Object. Remove all english stop words such as 'the', 'a'\n",
    "tfidf = TfidfVectorizer(stop_words='english')\n",
    "\n",
    "#Replace NaN with an empty string\n",
    "movies['overview'] = movies['overview'].fillna('')\n",
    "\n",
    "#Construct the required TF-IDF matrix by fitting and transforming the data\n",
    "tfidf_matrix = tfidf.fit_transform(movies['overview'])\n",
    "\n",
    "#Output the shape of tfidf_matrix\n",
    "tfidf_matrix.shape"
   ]
  },
  {
   "cell_type": "markdown",
   "metadata": {
    "_uuid": "6bde57434bf9a0e8f8b229d36901d75b77ff962f"
   },
   "source": [
    "We see that over 20,000 different words were used to describe the 4800 movies in our dataset.\n",
    "\n",
    "With this matrix in hand, we can now compute a similarity score. There are several candidates for this; such as the euclidean, the Pearson and the [cosine similarity scores](https://en.wikipedia.org/wiki/Cosine_similarity). There is no right answer to which score is the best. Different scores work well in different scenarios and it is often a good idea to experiment with different metrics.\n",
    "\n",
    "We will be using the cosine similarity to calculate a numeric quantity that denotes the similarity between two movies. We use the cosine similarity score since it is independent of magnitude and is relatively easy and fast to calculate. Mathematically, it is defined as follows:\n",
    "![](data:image/png;base64,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)"
   ]
  },
  {
   "cell_type": "markdown",
   "metadata": {
    "_uuid": "c1c138ae64648cb5a94127a06441d88dddc2bd9a"
   },
   "source": [
    "Since we have used the TF-IDF vectorizer, calculating the dot product will directly give us the cosine similarity score. Therefore, we will use sklearn's **linear_kernel()** instead of cosine_similarities() since it is faster."
   ]
  },
  {
   "cell_type": "code",
   "execution_count": 21,
   "metadata": {
    "_uuid": "5eb17d12220eecab4faf01bbfd13e79d8e446537",
    "execution": {
     "iopub.execute_input": "2022-12-04T03:10:02.376015Z",
     "iopub.status.busy": "2022-12-04T03:10:02.375631Z",
     "iopub.status.idle": "2022-12-04T03:10:02.965812Z",
     "shell.execute_reply": "2022-12-04T03:10:02.964671Z",
     "shell.execute_reply.started": "2022-12-04T03:10:02.375935Z"
    }
   },
   "outputs": [],
   "source": [
    "# Import linear_kernel\n",
    "from sklearn.metrics.pairwise import linear_kernel\n",
    "\n",
    "# Compute the cosine similarity matrix\n",
    "cosine_sim = linear_kernel(tfidf_matrix, tfidf_matrix)"
   ]
  },
  {
   "cell_type": "markdown",
   "metadata": {
    "_uuid": "f5ca112fbbe25b11f0f3356a31d1604727242700"
   },
   "source": [
    "We are going to define a function that takes in a movie title as an input and outputs a list of the 10 most similar movies. Firstly, for this, we need a reverse mapping of movie titles and DataFrame indices. In other words, we need a mechanism to identify the index of a movie in our metadata DataFrame, given its title."
   ]
  },
  {
   "cell_type": "code",
   "execution_count": 22,
   "metadata": {
    "_uuid": "55df2df36be98e6dec5f617a5aa51b77c500faa4",
    "execution": {
     "iopub.execute_input": "2022-12-04T03:10:07.296271Z",
     "iopub.status.busy": "2022-12-04T03:10:07.295733Z",
     "iopub.status.idle": "2022-12-04T03:10:07.306468Z",
     "shell.execute_reply": "2022-12-04T03:10:07.305645Z",
     "shell.execute_reply.started": "2022-12-04T03:10:07.296218Z"
    }
   },
   "outputs": [],
   "source": [
    "#Construct a reverse map of indices and movie titles\n",
    "indices = pd.Series(movies.index, index=movies['title']).drop_duplicates()\n"
   ]
  },
  {
   "cell_type": "markdown",
   "metadata": {
    "_uuid": "da5896c6ccfd44c3347af3097275d0aa707c1001"
   },
   "source": [
    "We are now in a good position to define our recommendation function. These are the following steps we'll follow :-\n",
    "* Get the index of the movie given its title.\n",
    "* Get the list of cosine similarity scores for that particular movie with all movies. Convert it into a list of tuples where the first element is its position and the second is the similarity score.\n",
    "* Sort the aforementioned list of tuples based on the similarity scores; that is, the second element.\n",
    "* Get the top 10 elements of this list. Ignore the first element as it refers to self (the movie most similar to a particular movie is the movie itself).\n",
    "* Return the titles corresponding to the indices of the top elements."
   ]
  },
  {
   "cell_type": "code",
   "execution_count": 23,
   "metadata": {
    "_uuid": "9c383fcbb916dce464b01adf980d26ad96aebe0e",
    "execution": {
     "iopub.execute_input": "2022-12-04T03:10:16.552132Z",
     "iopub.status.busy": "2022-12-04T03:10:16.551446Z",
     "iopub.status.idle": "2022-12-04T03:10:16.559878Z",
     "shell.execute_reply": "2022-12-04T03:10:16.558592Z",
     "shell.execute_reply.started": "2022-12-04T03:10:16.552060Z"
    }
   },
   "outputs": [],
   "source": [
    "# Function that takes in movie title as input and outputs most similar movies\n",
    "def get_recommendations(title, cosine_sim=cosine_sim):\n",
    "    # Get the index of the movie that matches the title\n",
    "    idx = indices[title]\n",
    "\n",
    "    # Get the pairwsie similarity scores of all movies with that movie\n",
    "    sim_scores = list(enumerate(cosine_sim[idx]))\n",
    "\n",
    "    # Sort the movies based on the similarity scores\n",
    "    sim_scores = sorted(sim_scores, key=lambda x: x[1], reverse=True)\n",
    "\n",
    "    # Get the scores of the 10 most similar movies\n",
    "    sim_scores = sim_scores[1:11]\n",
    "\n",
    "    # Get the movie indices\n",
    "    movie_indices = [i[0] for i in sim_scores]\n",
    "\n",
    "    # Return the top 10 most similar movies\n",
    "    return movies['title'].iloc[movie_indices]"
   ]
  },
  {
   "cell_type": "code",
   "execution_count": 24,
   "metadata": {
    "_uuid": "14d722124f82e69cb444adcc589e396c75cbb4ff",
    "execution": {
     "iopub.execute_input": "2022-12-04T03:10:24.831396Z",
     "iopub.status.busy": "2022-12-04T03:10:24.831065Z",
     "iopub.status.idle": "2022-12-04T03:10:24.843929Z",
     "shell.execute_reply": "2022-12-04T03:10:24.843148Z",
     "shell.execute_reply.started": "2022-12-04T03:10:24.831343Z"
    }
   },
   "outputs": [
    {
     "data": {
      "text/plain": [
       "3150                  Heavy Metal\n",
       "38       The Amazing Spider-Man 2\n",
       "3649                Lovely, Still\n",
       "2262                          CJ7\n",
       "1572    Forgetting Sarah Marshall\n",
       "2900      Space Battleship Yamato\n",
       "1824         The Face of an Angel\n",
       "20         The Amazing Spider-Man\n",
       "193                   After Earth\n",
       "1115           The Sweetest Thing\n",
       "Name: title, dtype: object"
      ]
     },
     "execution_count": 24,
     "metadata": {},
     "output_type": "execute_result"
    }
   ],
   "source": [
    "get_recommendations('The Dark Knight Rises')"
   ]
  },
  {
   "cell_type": "code",
   "execution_count": 25,
   "metadata": {
    "_uuid": "902b9f1ab91921889c85e9008818dcc0b4710ccd",
    "execution": {
     "iopub.execute_input": "2022-12-04T03:10:28.989197Z",
     "iopub.status.busy": "2022-12-04T03:10:28.988476Z",
     "iopub.status.idle": "2022-12-04T03:10:29.004448Z",
     "shell.execute_reply": "2022-12-04T03:10:29.003452Z",
     "shell.execute_reply.started": "2022-12-04T03:10:28.989124Z"
    }
   },
   "outputs": [
    {
     "data": {
      "text/plain": [
       "591                Stardust\n",
       "3999                    Ida\n",
       "2299              Leap Year\n",
       "1669            The Promise\n",
       "3237                 Splash\n",
       "4364    Two Girls and a Guy\n",
       "1563    The Prince of Tides\n",
       "809            Forrest Gump\n",
       "4621             Royal Kill\n",
       "2608       Black Snake Moan\n",
       "Name: title, dtype: object"
      ]
     },
     "execution_count": 25,
     "metadata": {},
     "output_type": "execute_result"
    }
   ],
   "source": [
    "get_recommendations('The Avengers')"
   ]
  },
  {
   "cell_type": "markdown",
   "metadata": {
    "_uuid": "146302c25776b2c0076e64663a5e2e41e977fd2c"
   },
   "source": [
    "While our system has done a decent job of finding movies with similar plot descriptions, the quality of recommendations is not that great. \"The Dark Knight Rises\" returns all Batman movies while it is more likely that the people who liked that movie are more inclined to enjoy other Christopher Nolan movies. This is something that cannot be captured by the present system."
   ]
  },
  {
   "cell_type": "markdown",
   "metadata": {
    "_uuid": "fcfe9db9c2fdd9334538256d233c6acf33c1c049"
   },
   "source": [
    "## **Credits, Genres and Keywords Based Recommender**\n",
    "It goes without saying that the quality of our recommender would be increased with the usage of better metadata. That is exactly what we are going to do in this section. We are going to build a recommender based on the following metadata: the 3 top actors, the director, related genres and the movie plot keywords.\n",
    "\n",
    "From the cast, crew and keywords features, we need to extract the three most important actors, the director and the keywords associated with that movie. Right now, our data is present in the form of \"stringified\" lists , we need to convert it into a safe and usable structure"
   ]
  },
  {
   "cell_type": "code",
   "execution_count": 26,
   "metadata": {
    "_uuid": "59a8d0991e3cae9a44a4b351e154fd1000724448",
    "execution": {
     "iopub.execute_input": "2022-12-04T03:10:49.127669Z",
     "iopub.status.busy": "2022-12-04T03:10:49.126952Z",
     "iopub.status.idle": "2022-12-04T03:10:58.684384Z",
     "shell.execute_reply": "2022-12-04T03:10:58.683475Z",
     "shell.execute_reply.started": "2022-12-04T03:10:49.127593Z"
    }
   },
   "outputs": [],
   "source": [
    "# Parse the stringified features into their corresponding python objects\n",
    "from ast import literal_eval\n",
    "\n",
    "features = ['cast', 'crew', 'keywords', 'genres']\n",
    "for feature in features:\n",
    "    movies[feature] = movies[feature].apply(literal_eval)"
   ]
  },
  {
   "cell_type": "markdown",
   "metadata": {
    "_uuid": "47d6062d1622a163f2bcf80b79eb7b1454003739"
   },
   "source": [
    "Next, we'll write functions that will help us to extract the required information from each feature."
   ]
  },
  {
   "cell_type": "code",
   "execution_count": 27,
   "metadata": {
    "_uuid": "783b0e89f1c04a12ff51eb29cc68e93c818896cd",
    "execution": {
     "iopub.execute_input": "2022-12-04T03:10:58.685962Z",
     "iopub.status.busy": "2022-12-04T03:10:58.685705Z",
     "iopub.status.idle": "2022-12-04T03:10:58.691847Z",
     "shell.execute_reply": "2022-12-04T03:10:58.690756Z",
     "shell.execute_reply.started": "2022-12-04T03:10:58.685918Z"
    }
   },
   "outputs": [],
   "source": [
    "# Get the director's name from the crew feature. If director is not listed, return NaN\n",
    "def get_director(x):\n",
    "    for i in x:\n",
    "        if i['job'] == 'Director':\n",
    "            return i['name']\n",
    "    return np.nan"
   ]
  },
  {
   "cell_type": "code",
   "execution_count": 28,
   "metadata": {
    "_uuid": "86c4e9f4e6ef1e5ff287f58f3a1119fbddbdae09",
    "execution": {
     "iopub.execute_input": "2022-12-04T03:10:58.694087Z",
     "iopub.status.busy": "2022-12-04T03:10:58.693710Z",
     "iopub.status.idle": "2022-12-04T03:10:58.707206Z",
     "shell.execute_reply": "2022-12-04T03:10:58.705937Z",
     "shell.execute_reply.started": "2022-12-04T03:10:58.694028Z"
    }
   },
   "outputs": [],
   "source": [
    "# Returns the list top 3 elements or entire list; whichever is more.\n",
    "def get_list(x):\n",
    "    if isinstance(x, list):\n",
    "        names = [i['name'] for i in x]\n",
    "        #Check if more than 3 elements exist. If yes, return only first three. If no, return entire list.\n",
    "        if len(names) > 3:\n",
    "            names = names[:3]\n",
    "        return names\n",
    "\n",
    "    #Return empty list in case of missing/malformed data\n",
    "    return []"
   ]
  },
  {
   "cell_type": "code",
   "execution_count": 29,
   "metadata": {
    "_uuid": "dd060c3c1d724de71555218f30cccafd4a8ad6af",
    "execution": {
     "iopub.execute_input": "2022-12-04T03:10:59.745504Z",
     "iopub.status.busy": "2022-12-04T03:10:59.745181Z",
     "iopub.status.idle": "2022-12-04T03:10:59.960498Z",
     "shell.execute_reply": "2022-12-04T03:10:59.959504Z",
     "shell.execute_reply.started": "2022-12-04T03:10:59.745451Z"
    }
   },
   "outputs": [],
   "source": [
    "# Define new director, cast, genres and keywords features that are in a suitable form.\n",
    "movies['director'] = movies['crew'].apply(get_director)\n",
    "\n",
    "features = ['cast', 'keywords', 'genres']\n",
    "for feature in features:\n",
    "    movies[feature] = movies[feature].apply(get_list)"
   ]
  },
  {
   "cell_type": "code",
   "execution_count": 30,
   "metadata": {
    "_uuid": "87a96f835470aa3df590b74322c2717ff529d6ae",
    "execution": {
     "iopub.execute_input": "2022-12-04T03:11:01.762247Z",
     "iopub.status.busy": "2022-12-04T03:11:01.761877Z",
     "iopub.status.idle": "2022-12-04T03:11:01.798439Z",
     "shell.execute_reply": "2022-12-04T03:11:01.797204Z",
     "shell.execute_reply.started": "2022-12-04T03:11:01.762190Z"
    }
   },
   "outputs": [
    {
     "data": {
      "text/html": [
       "<div>\n",
       "<style scoped>\n",
       "    .dataframe tbody tr th:only-of-type {\n",
       "        vertical-align: middle;\n",
       "    }\n",
       "\n",
       "    .dataframe tbody tr th {\n",
       "        vertical-align: top;\n",
       "    }\n",
       "\n",
       "    .dataframe thead th {\n",
       "        text-align: right;\n",
       "    }\n",
       "</style>\n",
       "<table border=\"1\" class=\"dataframe\">\n",
       "  <thead>\n",
       "    <tr style=\"text-align: right;\">\n",
       "      <th></th>\n",
       "      <th>title</th>\n",
       "      <th>cast</th>\n",
       "      <th>director</th>\n",
       "      <th>keywords</th>\n",
       "      <th>genres</th>\n",
       "    </tr>\n",
       "  </thead>\n",
       "  <tbody>\n",
       "    <tr>\n",
       "      <th>546</th>\n",
       "      <td>Minions</td>\n",
       "      <td>[Sandra Bullock, Jon Hamm, Michael Keaton]</td>\n",
       "      <td>Kyle Balda</td>\n",
       "      <td>[assistant, aftercreditsstinger, duringcredits...</td>\n",
       "      <td>[Family, Animation, Adventure]</td>\n",
       "    </tr>\n",
       "    <tr>\n",
       "      <th>95</th>\n",
       "      <td>Interstellar</td>\n",
       "      <td>[Matthew McConaughey, Jessica Chastain, Anne H...</td>\n",
       "      <td>Christopher Nolan</td>\n",
       "      <td>[saving the world, artificial intelligence, fa...</td>\n",
       "      <td>[Adventure, Drama, Science Fiction]</td>\n",
       "    </tr>\n",
       "    <tr>\n",
       "      <th>788</th>\n",
       "      <td>Deadpool</td>\n",
       "      <td>[Ryan Reynolds, Morena Baccarin, Ed Skrein]</td>\n",
       "      <td>Tim Miller</td>\n",
       "      <td>[anti hero, mercenary, marvel comic]</td>\n",
       "      <td>[Action, Adventure, Comedy]</td>\n",
       "    </tr>\n",
       "  </tbody>\n",
       "</table>\n",
       "</div>"
      ],
      "text/plain": [
       "            title                 ...                                                genres\n",
       "546       Minions                 ...                        [Family, Animation, Adventure]\n",
       "95   Interstellar                 ...                   [Adventure, Drama, Science Fiction]\n",
       "788      Deadpool                 ...                           [Action, Adventure, Comedy]\n",
       "\n",
       "[3 rows x 5 columns]"
      ]
     },
     "execution_count": 30,
     "metadata": {},
     "output_type": "execute_result"
    }
   ],
   "source": [
    "# Print the new features of the first 3 films\n",
    "movies[['title', 'cast', 'director', 'keywords', 'genres']].head(3)"
   ]
  },
  {
   "cell_type": "markdown",
   "metadata": {
    "_uuid": "0bcb2c2e99ffd9ce73205c9c6ef6687d16caa31f"
   },
   "source": [
    "The next step would be to convert the names and keyword instances into lowercase and strip all the spaces between them. This is done so that our vectorizer doesn't count the Johnny of \"Johnny Depp\" and \"Johnny Galecki\" as the same."
   ]
  },
  {
   "cell_type": "code",
   "execution_count": 31,
   "metadata": {
    "_uuid": "86af764c406a8b6184b37b57cfe499d20ce45f9c",
    "execution": {
     "iopub.execute_input": "2022-12-04T03:11:07.738053Z",
     "iopub.status.busy": "2022-12-04T03:11:07.737376Z",
     "iopub.status.idle": "2022-12-04T03:11:07.744602Z",
     "shell.execute_reply": "2022-12-04T03:11:07.743637Z",
     "shell.execute_reply.started": "2022-12-04T03:11:07.737953Z"
    }
   },
   "outputs": [],
   "source": [
    "# Function to convert all strings to lower case and strip names of spaces\n",
    "def clean_data(x):\n",
    "    if isinstance(x, list):\n",
    "        return [str.lower(i.replace(\" \", \"\")) for i in x]\n",
    "    else:\n",
    "        #Check if director exists. If not, return empty string\n",
    "        if isinstance(x, str):\n",
    "            return str.lower(x.replace(\" \", \"\"))\n",
    "        else:\n",
    "            return ''"
   ]
  },
  {
   "cell_type": "code",
   "execution_count": 32,
   "metadata": {
    "_uuid": "5728cc017ff6ed1dcd79da05b1dd57a60557e853",
    "execution": {
     "iopub.execute_input": "2022-12-04T03:11:11.992004Z",
     "iopub.status.busy": "2022-12-04T03:11:11.991647Z",
     "iopub.status.idle": "2022-12-04T03:11:12.045575Z",
     "shell.execute_reply": "2022-12-04T03:11:12.044451Z",
     "shell.execute_reply.started": "2022-12-04T03:11:11.991915Z"
    }
   },
   "outputs": [],
   "source": [
    "# Apply clean_data function to your features.\n",
    "features = ['cast', 'keywords', 'director', 'genres']\n",
    "\n",
    "for feature in features:\n",
    "    movies[feature] = movies[feature].apply(clean_data)"
   ]
  },
  {
   "cell_type": "markdown",
   "metadata": {
    "_uuid": "b6b3e1c480a7c280fbe81e63c5c4cf3ce308dc28"
   },
   "source": [
    "We are now in a position to create our \"metadata soup\", which is a string that contains all the metadata that we want to feed to our vectorizer (namely actors, director and keywords)."
   ]
  },
  {
   "cell_type": "code",
   "execution_count": 33,
   "metadata": {
    "_uuid": "20aef87703c408926f7617573ed043605207767f",
    "execution": {
     "iopub.execute_input": "2022-12-04T03:11:13.712230Z",
     "iopub.status.busy": "2022-12-04T03:11:13.711853Z",
     "iopub.status.idle": "2022-12-04T03:11:14.005406Z",
     "shell.execute_reply": "2022-12-04T03:11:14.004470Z",
     "shell.execute_reply.started": "2022-12-04T03:11:13.712171Z"
    }
   },
   "outputs": [],
   "source": [
    "def create_soup(x):\n",
    "    return ' '.join(x['keywords']) + ' ' + ' '.join(x['cast']) + ' ' + x['director'] + ' ' + ' '.join(x['genres'])\n",
    "movies['soup'] = movies.apply(create_soup, axis=1)"
   ]
  },
  {
   "cell_type": "markdown",
   "metadata": {
    "_uuid": "7b79886883806b8fb58098f9f803dabeaa0cadf6"
   },
   "source": [
    "The next steps are the same as what we did with our plot description based recommender. One important difference is that we use the **CountVectorizer()** instead of TF-IDF. This is because we do not want to down-weight the presence of an actor/director if he or she has acted or directed in relatively more movies. It doesn't make much intuitive sense."
   ]
  },
  {
   "cell_type": "code",
   "execution_count": 34,
   "metadata": {
    "_uuid": "b66a1afc1083917d5ef136ccdcd9b50cca087e2b",
    "execution": {
     "iopub.execute_input": "2022-12-04T03:11:19.322071Z",
     "iopub.status.busy": "2022-12-04T03:11:19.321370Z",
     "iopub.status.idle": "2022-12-04T03:11:19.435447Z",
     "shell.execute_reply": "2022-12-04T03:11:19.434090Z",
     "shell.execute_reply.started": "2022-12-04T03:11:19.321993Z"
    }
   },
   "outputs": [],
   "source": [
    "# Import CountVectorizer and create the count matrix\n",
    "from sklearn.feature_extraction.text import CountVectorizer\n",
    "\n",
    "count = CountVectorizer(stop_words='english')\n",
    "count_matrix = count.fit_transform(movies['soup'])"
   ]
  },
  {
   "cell_type": "code",
   "execution_count": 35,
   "metadata": {
    "_uuid": "3fa5539ed1680ed5323f8351ac7e4840f629e958",
    "execution": {
     "iopub.execute_input": "2022-12-04T03:11:22.492874Z",
     "iopub.status.busy": "2022-12-04T03:11:22.492104Z",
     "iopub.status.idle": "2022-12-04T03:11:23.146471Z",
     "shell.execute_reply": "2022-12-04T03:11:23.145335Z",
     "shell.execute_reply.started": "2022-12-04T03:11:22.492621Z"
    }
   },
   "outputs": [],
   "source": [
    "# Compute the Cosine Similarity matrix based on the count_matrix\n",
    "from sklearn.metrics.pairwise import cosine_similarity\n",
    "\n",
    "cosine_sim2 = cosine_similarity(count_matrix, count_matrix)"
   ]
  },
  {
   "cell_type": "code",
   "execution_count": 36,
   "metadata": {
    "_uuid": "b2b8565a04f4bda92d3ba9d15c348af1cd8f8b4d",
    "execution": {
     "iopub.execute_input": "2022-12-04T03:11:25.072744Z",
     "iopub.status.busy": "2022-12-04T03:11:25.072133Z",
     "iopub.status.idle": "2022-12-04T03:11:25.087961Z",
     "shell.execute_reply": "2022-12-04T03:11:25.086727Z",
     "shell.execute_reply.started": "2022-12-04T03:11:25.072661Z"
    }
   },
   "outputs": [],
   "source": [
    "# Reset index of our main DataFrame and construct reverse mapping as before\n",
    "movies = movies.reset_index()\n",
    "indices = pd.Series(movies.index, index=movies['title'])"
   ]
  },
  {
   "cell_type": "markdown",
   "metadata": {
    "_uuid": "3c5a3a44893f63aa558030d03e228a365d10d91f"
   },
   "source": [
    "We can now reuse our **get_recommendations()** function by passing in the new **cosine_sim2** matrix as your second argument."
   ]
  },
  {
   "cell_type": "code",
   "execution_count": 37,
   "metadata": {
    "_uuid": "d1e0e02be7a9e71422d3a492834cb4f8434d1464",
    "execution": {
     "iopub.execute_input": "2022-12-04T03:11:32.169640Z",
     "iopub.status.busy": "2022-12-04T03:11:32.169140Z",
     "iopub.status.idle": "2022-12-04T03:11:32.183547Z",
     "shell.execute_reply": "2022-12-04T03:11:32.182369Z",
     "shell.execute_reply.started": "2022-12-04T03:11:32.169412Z"
    }
   },
   "outputs": [
    {
     "data": {
      "text/plain": [
       "13               The Dark Knight\n",
       "58                 Batman Begins\n",
       "4771    Amidst the Devil's Wings\n",
       "188                 The Prestige\n",
       "3573           Romeo Is Bleeding\n",
       "4245              Black November\n",
       "1300                      Faster\n",
       "1853                      Takers\n",
       "1009                    Catwoman\n",
       "1161              Gangster Squad\n",
       "Name: title, dtype: object"
      ]
     },
     "execution_count": 37,
     "metadata": {},
     "output_type": "execute_result"
    }
   ],
   "source": [
    "get_recommendations('The Dark Knight Rises', cosine_sim2)"
   ]
  },
  {
   "cell_type": "code",
   "execution_count": 38,
   "metadata": {
    "_uuid": "d6c4df85a80d830b2905f69e0e59ebb3461db3b7",
    "execution": {
     "iopub.execute_input": "2022-12-04T03:13:54.544786Z",
     "iopub.status.busy": "2022-12-04T03:13:54.544379Z",
     "iopub.status.idle": "2022-12-04T03:13:54.558243Z",
     "shell.execute_reply": "2022-12-04T03:13:54.557132Z",
     "shell.execute_reply.started": "2022-12-04T03:13:54.544716Z"
    }
   },
   "outputs": [
    {
     "data": {
      "text/plain": [
       "4684    Me You and Five Bucks\n",
       "306          The Great Gatsby\n",
       "402             Me Before You\n",
       "749                  Brooklyn\n",
       "968                 Atonement\n",
       "970        A Walk to Remember\n",
       "1273            The Lucky One\n",
       "1428                  Flipped\n",
       "1592             A Single Man\n",
       "1643    Sense and Sensibility\n",
       "Name: title, dtype: object"
      ]
     },
     "execution_count": 38,
     "metadata": {},
     "output_type": "execute_result"
    }
   ],
   "source": [
    "get_recommendations('The Fault in Our Stars', cosine_sim2)"
   ]
  },
  {
   "cell_type": "markdown",
   "metadata": {
    "_uuid": "4d963ff547ee4980c0f23840394046d805fda574"
   },
   "source": [
    "We see that our recommender has been successful in capturing more information due to more metadata and has given us (arguably) better recommendations. It is more likely that Marvels or DC comics fans will like the movies of the same production house. Therefore, to our features above we can add *production_company* . \n",
    "We can also increase the weight of the director , by adding the feature multiple times in the soup."
   ]
  },
  {
   "cell_type": "code",
   "execution_count": 39,
   "metadata": {
    "execution": {
     "iopub.execute_input": "2022-12-04T03:13:08.485702Z",
     "iopub.status.busy": "2022-12-04T03:13:08.485380Z",
     "iopub.status.idle": "2022-12-04T03:13:08.908498Z",
     "shell.execute_reply": "2022-12-04T03:13:08.906992Z",
     "shell.execute_reply.started": "2022-12-04T03:13:08.485656Z"
    }
   },
   "outputs": [
    {
     "data": {
      "text/html": [
       "<div>\n",
       "<style scoped>\n",
       "    .dataframe tbody tr th:only-of-type {\n",
       "        vertical-align: middle;\n",
       "    }\n",
       "\n",
       "    .dataframe tbody tr th {\n",
       "        vertical-align: top;\n",
       "    }\n",
       "\n",
       "    .dataframe thead th {\n",
       "        text-align: right;\n",
       "    }\n",
       "</style>\n",
       "<table border=\"1\" class=\"dataframe\">\n",
       "  <thead>\n",
       "    <tr style=\"text-align: right;\">\n",
       "      <th></th>\n",
       "      <th>index</th>\n",
       "      <th>budget</th>\n",
       "      <th>genres</th>\n",
       "      <th>homepage</th>\n",
       "      <th>id</th>\n",
       "      <th>keywords</th>\n",
       "      <th>original_language</th>\n",
       "      <th>original_title</th>\n",
       "      <th>overview</th>\n",
       "      <th>popularity</th>\n",
       "      <th>production_companies</th>\n",
       "      <th>production_countries</th>\n",
       "      <th>release_date</th>\n",
       "      <th>revenue</th>\n",
       "      <th>runtime</th>\n",
       "      <th>spoken_languages</th>\n",
       "      <th>status</th>\n",
       "      <th>tagline</th>\n",
       "      <th>title</th>\n",
       "      <th>vote_average</th>\n",
       "      <th>vote_count</th>\n",
       "      <th>tittle</th>\n",
       "      <th>cast</th>\n",
       "      <th>crew</th>\n",
       "      <th>director</th>\n",
       "      <th>soup</th>\n",
       "    </tr>\n",
       "  </thead>\n",
       "  <tbody>\n",
       "    <tr>\n",
       "      <th>44</th>\n",
       "      <td>2912</td>\n",
       "      <td>11000000</td>\n",
       "      <td>[adventure, action, sciencefiction]</td>\n",
       "      <td>http://www.starwars.com/films/star-wars-episod...</td>\n",
       "      <td>11</td>\n",
       "      <td>[android, galaxy, hermit]</td>\n",
       "      <td>en</td>\n",
       "      <td>Star Wars</td>\n",
       "      <td>Princess Leia is captured and held hostage by ...</td>\n",
       "      <td>126.393695</td>\n",
       "      <td>[{\"name\": \"Lucasfilm\", \"id\": 1}, {\"name\": \"Twe...</td>\n",
       "      <td>[{\"iso_3166_1\": \"US\", \"name\": \"United States o...</td>\n",
       "      <td>1977-05-25</td>\n",
       "      <td>775398007</td>\n",
       "      <td>121.0</td>\n",
       "      <td>[{\"iso_639_1\": \"en\", \"name\": \"English\"}]</td>\n",
       "      <td>Released</td>\n",
       "      <td>A long time ago in a galaxy far, far away...</td>\n",
       "      <td>Star Wars</td>\n",
       "      <td>8.1</td>\n",
       "      <td>6624</td>\n",
       "      <td>Star Wars</td>\n",
       "      <td>[markhamill, harrisonford, carriefisher]</td>\n",
       "      <td>[{'credit_id': '52fe420dc3a36847f8000437', 'de...</td>\n",
       "      <td>georgelucas</td>\n",
       "      <td>android galaxy hermit markhamill harrisonford ...</td>\n",
       "    </tr>\n",
       "    <tr>\n",
       "      <th>170</th>\n",
       "      <td>47</td>\n",
       "      <td>190000000</td>\n",
       "      <td>[action, adventure, sciencefiction]</td>\n",
       "      <td>NaN</td>\n",
       "      <td>54138</td>\n",
       "      <td>[spacecraft, friendship, sequel]</td>\n",
       "      <td>en</td>\n",
       "      <td>Star Trek Into Darkness</td>\n",
       "      <td>When the crew of the Enterprise is called back...</td>\n",
       "      <td>78.291018</td>\n",
       "      <td>[{\"name\": \"Paramount Pictures\", \"id\": 4}, {\"na...</td>\n",
       "      <td>[{\"iso_3166_1\": \"US\", \"name\": \"United States o...</td>\n",
       "      <td>2013-05-05</td>\n",
       "      <td>467365246</td>\n",
       "      <td>132.0</td>\n",
       "      <td>[{\"iso_639_1\": \"en\", \"name\": \"English\"}]</td>\n",
       "      <td>Released</td>\n",
       "      <td>Earth Will Fall</td>\n",
       "      <td>Star Trek Into Darkness</td>\n",
       "      <td>7.4</td>\n",
       "      <td>4418</td>\n",
       "      <td>Star Trek Into Darkness</td>\n",
       "      <td>[chrispine, zacharyquinto, zoesaldana]</td>\n",
       "      <td>[{'credit_id': '52fe488dc3a36847f816d839', 'de...</td>\n",
       "      <td>j.j.abrams</td>\n",
       "      <td>spacecraft friendship sequel chrispine zachary...</td>\n",
       "    </tr>\n",
       "    <tr>\n",
       "      <th>190</th>\n",
       "      <td>2838</td>\n",
       "      <td>12000000</td>\n",
       "      <td>[romance, drama]</td>\n",
       "      <td>NaN</td>\n",
       "      <td>222935</td>\n",
       "      <td>[amsterdam, basedonnovel, supportgroup]</td>\n",
       "      <td>en</td>\n",
       "      <td>The Fault in Our Stars</td>\n",
       "      <td>Despite the tumor-shrinking medical miracle th...</td>\n",
       "      <td>74.358971</td>\n",
       "      <td>[{\"name\": \"Fox 2000 Pictures\", \"id\": 711}, {\"n...</td>\n",
       "      <td>[{\"iso_3166_1\": \"US\", \"name\": \"United States o...</td>\n",
       "      <td>2014-05-16</td>\n",
       "      <td>307166834</td>\n",
       "      <td>125.0</td>\n",
       "      <td>[{\"iso_639_1\": \"en\", \"name\": \"English\"}]</td>\n",
       "      <td>Released</td>\n",
       "      <td>One Sick Love Story</td>\n",
       "      <td>The Fault in Our Stars</td>\n",
       "      <td>7.6</td>\n",
       "      <td>3759</td>\n",
       "      <td>The Fault in Our Stars</td>\n",
       "      <td>[shailenewoodley, anselelgort, natwolff]</td>\n",
       "      <td>[{'credit_id': '585d02fbc3a3684086008ba5', 'de...</td>\n",
       "      <td>joshboone</td>\n",
       "      <td>amsterdam basedonnovel supportgroup shailenewo...</td>\n",
       "    </tr>\n",
       "    <tr>\n",
       "      <th>200</th>\n",
       "      <td>158</td>\n",
       "      <td>150000000</td>\n",
       "      <td>[sciencefiction, action, adventure]</td>\n",
       "      <td>NaN</td>\n",
       "      <td>13475</td>\n",
       "      <td>[spacecraft, teleportation, spacemission]</td>\n",
       "      <td>en</td>\n",
       "      <td>Star Trek</td>\n",
       "      <td>The fate of the galaxy rests in the hands of b...</td>\n",
       "      <td>73.616808</td>\n",
       "      <td>[{\"name\": \"Paramount Pictures\", \"id\": 4}, {\"na...</td>\n",
       "      <td>[{\"iso_3166_1\": \"DE\", \"name\": \"Germany\"}, {\"is...</td>\n",
       "      <td>2009-05-06</td>\n",
       "      <td>385680446</td>\n",
       "      <td>127.0</td>\n",
       "      <td>[{\"iso_639_1\": \"en\", \"name\": \"English\"}]</td>\n",
       "      <td>Released</td>\n",
       "      <td>The future begins.</td>\n",
       "      <td>Star Trek</td>\n",
       "      <td>7.4</td>\n",
       "      <td>4518</td>\n",
       "      <td>Star Trek</td>\n",
       "      <td>[chrispine, zacharyquinto, leonardnimoy]</td>\n",
       "      <td>[{'credit_id': '53748f960e0a267c5f003884', 'de...</td>\n",
       "      <td>j.j.abrams</td>\n",
       "      <td>spacecraft teleportation spacemission chrispin...</td>\n",
       "    </tr>\n",
       "    <tr>\n",
       "      <th>261</th>\n",
       "      <td>56</td>\n",
       "      <td>185000000</td>\n",
       "      <td>[action, adventure, sciencefiction]</td>\n",
       "      <td>http://www.startrekmovie.com/</td>\n",
       "      <td>188927</td>\n",
       "      <td>[sequel, stranded, hatred]</td>\n",
       "      <td>en</td>\n",
       "      <td>Star Trek Beyond</td>\n",
       "      <td>The USS Enterprise crew explores the furthest ...</td>\n",
       "      <td>65.352913</td>\n",
       "      <td>[{\"name\": \"Paramount Pictures\", \"id\": 4}, {\"na...</td>\n",
       "      <td>[{\"iso_3166_1\": \"US\", \"name\": \"United States o...</td>\n",
       "      <td>2016-07-07</td>\n",
       "      <td>343471816</td>\n",
       "      <td>122.0</td>\n",
       "      <td>[{\"iso_639_1\": \"en\", \"name\": \"English\"}]</td>\n",
       "      <td>Released</td>\n",
       "      <td>NaN</td>\n",
       "      <td>Star Trek Beyond</td>\n",
       "      <td>6.6</td>\n",
       "      <td>2568</td>\n",
       "      <td>Star Trek Beyond</td>\n",
       "      <td>[chrispine, zacharyquinto, karlurban]</td>\n",
       "      <td>[{'credit_id': '52fe4d489251416c751360bb', 'de...</td>\n",
       "      <td>justinlin</td>\n",
       "      <td>sequel stranded hatred chrispine zacharyquinto...</td>\n",
       "    </tr>\n",
       "    <tr>\n",
       "      <th>342</th>\n",
       "      <td>300</td>\n",
       "      <td>105000000</td>\n",
       "      <td>[adventure, action, thriller]</td>\n",
       "      <td>NaN</td>\n",
       "      <td>563</td>\n",
       "      <td>[moon, asteroid, spacemarine]</td>\n",
       "      <td>en</td>\n",
       "      <td>Starship Troopers</td>\n",
       "      <td>Set in the future, the story follows a young s...</td>\n",
       "      <td>58.782359</td>\n",
       "      <td>[{\"name\": \"TriStar Pictures\", \"id\": 559}, {\"na...</td>\n",
       "      <td>[{\"iso_3166_1\": \"US\", \"name\": \"United States o...</td>\n",
       "      <td>1997-11-06</td>\n",
       "      <td>121214377</td>\n",
       "      <td>129.0</td>\n",
       "      <td>[{\"iso_639_1\": \"en\", \"name\": \"English\"}]</td>\n",
       "      <td>Released</td>\n",
       "      <td>The only good bug is a dead bug.</td>\n",
       "      <td>Starship Troopers</td>\n",
       "      <td>6.7</td>\n",
       "      <td>1560</td>\n",
       "      <td>Starship Troopers</td>\n",
       "      <td>[caspervandien, dinameyer, deniserichards]</td>\n",
       "      <td>[{'credit_id': '52fe4253c3a36847f801557d', 'de...</td>\n",
       "      <td>paulverhoeven</td>\n",
       "      <td>moon asteroid spacemarine caspervandien diname...</td>\n",
       "    </tr>\n",
       "    <tr>\n",
       "      <th>390</th>\n",
       "      <td>233</td>\n",
       "      <td>115000000</td>\n",
       "      <td>[adventure, action, sciencefiction]</td>\n",
       "      <td>http://www.starwars.com/films/star-wars-episod...</td>\n",
       "      <td>1893</td>\n",
       "      <td>[prophecy, senate, queen]</td>\n",
       "      <td>en</td>\n",
       "      <td>Star Wars: Episode I - The Phantom Menace</td>\n",
       "      <td>Anakin Skywalker, a young slave strong with th...</td>\n",
       "      <td>54.035265</td>\n",
       "      <td>[{\"name\": \"Lucasfilm\", \"id\": 1}]</td>\n",
       "      <td>[{\"iso_3166_1\": \"US\", \"name\": \"United States o...</td>\n",
       "      <td>1999-05-19</td>\n",
       "      <td>924317558</td>\n",
       "      <td>136.0</td>\n",
       "      <td>[{\"iso_639_1\": \"en\", \"name\": \"English\"}]</td>\n",
       "      <td>Released</td>\n",
       "      <td>Every generation has a legend. Every journey h...</td>\n",
       "      <td>Star Wars: Episode I - The Phantom Menace</td>\n",
       "      <td>6.3</td>\n",
       "      <td>4432</td>\n",
       "      <td>Star Wars: Episode I - The Phantom Menace</td>\n",
       "      <td>[liamneeson, ewanmcgregor, natalieportman]</td>\n",
       "      <td>[{'credit_id': '52fe431ec3a36847f803bca3', 'de...</td>\n",
       "      <td>georgelucas</td>\n",
       "      <td>prophecy senate queen liamneeson ewanmcgregor ...</td>\n",
       "    </tr>\n",
       "    <tr>\n",
       "      <th>501</th>\n",
       "      <td>591</td>\n",
       "      <td>70000000</td>\n",
       "      <td>[adventure, fantasy, romance]</td>\n",
       "      <td>http://www.stardustmovie.com</td>\n",
       "      <td>2270</td>\n",
       "      <td>[witch, basedonnovel, newlove]</td>\n",
       "      <td>en</td>\n",
       "      <td>Stardust</td>\n",
       "      <td>In a countryside town bordering on a magical l...</td>\n",
       "      <td>48.032734</td>\n",
       "      <td>[{\"name\": \"Paramount Pictures\", \"id\": 4}, {\"na...</td>\n",
       "      <td>[{\"iso_3166_1\": \"IS\", \"name\": \"Iceland\"}, {\"is...</td>\n",
       "      <td>2007-08-09</td>\n",
       "      <td>135560026</td>\n",
       "      <td>127.0</td>\n",
       "      <td>[{\"iso_639_1\": \"en\", \"name\": \"English\"}]</td>\n",
       "      <td>Released</td>\n",
       "      <td>This Summer A Star Falls. The Chase Begins.</td>\n",
       "      <td>Stardust</td>\n",
       "      <td>7.1</td>\n",
       "      <td>1184</td>\n",
       "      <td>Stardust</td>\n",
       "      <td>[clairedanes, charliecox, michellepfeiffer]</td>\n",
       "      <td>[{'credit_id': '52fe4349c3a36847f8048871', 'de...</td>\n",
       "      <td>matthewvaughn</td>\n",
       "      <td>witch basedonnovel newlove clairedanes charlie...</td>\n",
       "    </tr>\n",
       "    <tr>\n",
       "      <th>612</th>\n",
       "      <td>229</td>\n",
       "      <td>113000000</td>\n",
       "      <td>[sciencefiction, adventure, action]</td>\n",
       "      <td>http://www.starwars.com/films/star-wars-episod...</td>\n",
       "      <td>1895</td>\n",
       "      <td>[showdown, deathstar, vision]</td>\n",
       "      <td>en</td>\n",
       "      <td>Star Wars: Episode III - Revenge of the Sith</td>\n",
       "      <td>Years after the onset of the Clone Wars, the n...</td>\n",
       "      <td>44.108427</td>\n",
       "      <td>[{\"name\": \"Lucasfilm\", \"id\": 1}]</td>\n",
       "      <td>[{\"iso_3166_1\": \"US\", \"name\": \"United States o...</td>\n",
       "      <td>2005-05-17</td>\n",
       "      <td>850000000</td>\n",
       "      <td>140.0</td>\n",
       "      <td>[{\"iso_639_1\": \"en\", \"name\": \"English\"}]</td>\n",
       "      <td>Released</td>\n",
       "      <td>The saga is complete.</td>\n",
       "      <td>Star Wars: Episode III - Revenge of the Sith</td>\n",
       "      <td>7.1</td>\n",
       "      <td>4116</td>\n",
       "      <td>Star Wars: Episode III - Revenge of the Sith</td>\n",
       "      <td>[ewanmcgregor, natalieportman, haydenchristensen]</td>\n",
       "      <td>[{'credit_id': '52fe431fc3a36847f803bea3', 'de...</td>\n",
       "      <td>georgelucas</td>\n",
       "      <td>showdown deathstar vision ewanmcgregor natalie...</td>\n",
       "    </tr>\n",
       "    <tr>\n",
       "      <th>617</th>\n",
       "      <td>230</td>\n",
       "      <td>120000000</td>\n",
       "      <td>[adventure, action, sciencefiction]</td>\n",
       "      <td>http://www.starwars.com/films/star-wars-episod...</td>\n",
       "      <td>1894</td>\n",
       "      <td>[senate, investigation, army]</td>\n",
       "      <td>en</td>\n",
       "      <td>Star Wars: Episode II - Attack of the Clones</td>\n",
       "      <td>Ten years after the invasion of Naboo, the gal...</td>\n",
       "      <td>43.987061</td>\n",
       "      <td>[{\"name\": \"Lucasfilm\", \"id\": 1}]</td>\n",
       "      <td>[{\"iso_3166_1\": \"US\", \"name\": \"United States o...</td>\n",
       "      <td>2002-05-15</td>\n",
       "      <td>649398328</td>\n",
       "      <td>142.0</td>\n",
       "      <td>[{\"iso_639_1\": \"en\", \"name\": \"English\"}]</td>\n",
       "      <td>Released</td>\n",
       "      <td>A Jedi Shall Not Know Anger. Nor Hatred. Nor L...</td>\n",
       "      <td>Star Wars: Episode II - Attack of the Clones</td>\n",
       "      <td>6.4</td>\n",
       "      <td>3992</td>\n",
       "      <td>Star Wars: Episode II - Attack of the Clones</td>\n",
       "      <td>[ewanmcgregor, natalieportman, haydenchristensen]</td>\n",
       "      <td>[{'credit_id': '52fe431fc3a36847f803bd8b', 'de...</td>\n",
       "      <td>georgelucas</td>\n",
       "      <td>senate investigation army ewanmcgregor natalie...</td>\n",
       "    </tr>\n",
       "    <tr>\n",
       "      <th>1173</th>\n",
       "      <td>726</td>\n",
       "      <td>60000000</td>\n",
       "      <td>[comedy, crime]</td>\n",
       "      <td>NaN</td>\n",
       "      <td>9384</td>\n",
       "      <td>[informant, jumpingfromarooftop, surveillancef...</td>\n",
       "      <td>en</td>\n",
       "      <td>Starsky &amp; Hutch</td>\n",
       "      <td>Join uptight David Starsky and laid-back Ken \"...</td>\n",
       "      <td>28.848842</td>\n",
       "      <td>[{\"name\": \"Weed Road Pictures\", \"id\": 433}, {\"...</td>\n",
       "      <td>[{\"iso_3166_1\": \"US\", \"name\": \"United States o...</td>\n",
       "      <td>2004-03-05</td>\n",
       "      <td>170268750</td>\n",
       "      <td>101.0</td>\n",
       "      <td>[{\"iso_639_1\": \"en\", \"name\": \"English\"}, {\"iso...</td>\n",
       "      <td>Released</td>\n",
       "      <td>They're the man.</td>\n",
       "      <td>Starsky &amp; Hutch</td>\n",
       "      <td>5.6</td>\n",
       "      <td>644</td>\n",
       "      <td>Starsky &amp; Hutch</td>\n",
       "      <td>[benstiller, owenwilson, snoopdogg]</td>\n",
       "      <td>[{'credit_id': '556e26b0925141421d0013a7', 'de...</td>\n",
       "      <td>toddphillips</td>\n",
       "      <td>informant jumpingfromarooftop surveillancefoot...</td>\n",
       "    </tr>\n",
       "    <tr>\n",
       "      <th>1346</th>\n",
       "      <td>1034</td>\n",
       "      <td>46000000</td>\n",
       "      <td>[sciencefiction, action, adventure]</td>\n",
       "      <td>http://www.startrek.com/startrek/view/series/M...</td>\n",
       "      <td>199</td>\n",
       "      <td>[federation, starfleet, borg]</td>\n",
       "      <td>en</td>\n",
       "      <td>Star Trek: First Contact</td>\n",
       "      <td>The Borg, a relentless race of cyborgs, are on...</td>\n",
       "      <td>25.671300</td>\n",
       "      <td>[{\"name\": \"Paramount Pictures\", \"id\": 4}, {\"na...</td>\n",
       "      <td>[{\"iso_3166_1\": \"US\", \"name\": \"United States o...</td>\n",
       "      <td>1996-11-21</td>\n",
       "      <td>150000000</td>\n",
       "      <td>111.0</td>\n",
       "      <td>[{\"iso_639_1\": \"en\", \"name\": \"English\"}]</td>\n",
       "      <td>Released</td>\n",
       "      <td>Resistance is futile.</td>\n",
       "      <td>Star Trek: First Contact</td>\n",
       "      <td>7.0</td>\n",
       "      <td>661</td>\n",
       "      <td>Star Trek: First Contact</td>\n",
       "      <td>[patrickstewart, jonathanfrakes, brentspiner]</td>\n",
       "      <td>[{'credit_id': '537491aec3a368150f002753', 'de...</td>\n",
       "      <td>jonathanfrakes</td>\n",
       "      <td>federation starfleet borg patrickstewart jonat...</td>\n",
       "    </tr>\n",
       "    <tr>\n",
       "      <th>1406</th>\n",
       "      <td>1367</td>\n",
       "      <td>35000000</td>\n",
       "      <td>[sciencefiction, adventure, mystery]</td>\n",
       "      <td>NaN</td>\n",
       "      <td>152</td>\n",
       "      <td>[artificialintelligence, ussenterprise, starfl...</td>\n",
       "      <td>en</td>\n",
       "      <td>Star Trek: The Motion Picture</td>\n",
       "      <td>When a destructive space entity is spotted app...</td>\n",
       "      <td>24.616634</td>\n",
       "      <td>[{\"name\": \"Paramount Pictures\", \"id\": 4}]</td>\n",
       "      <td>[{\"iso_3166_1\": \"US\", \"name\": \"United States o...</td>\n",
       "      <td>1979-12-06</td>\n",
       "      <td>139000000</td>\n",
       "      <td>132.0</td>\n",
       "      <td>[{\"iso_639_1\": \"en\", \"name\": \"English\"}]</td>\n",
       "      <td>Released</td>\n",
       "      <td>The human adventure is just beginning.</td>\n",
       "      <td>Star Trek: The Motion Picture</td>\n",
       "      <td>6.2</td>\n",
       "      <td>530</td>\n",
       "      <td>Star Trek: The Motion Picture</td>\n",
       "      <td>[williamshatner, leonardnimoy, deforestkelley]</td>\n",
       "      <td>[{'credit_id': '52fe421fc3a36847f8005a53', 'de...</td>\n",
       "      <td>robertwise</td>\n",
       "      <td>artificialintelligence ussenterprise starfleet...</td>\n",
       "    </tr>\n",
       "    <tr>\n",
       "      <th>1544</th>\n",
       "      <td>2815</td>\n",
       "      <td>12000000</td>\n",
       "      <td>[action, adventure, sciencefiction]</td>\n",
       "      <td>NaN</td>\n",
       "      <td>154</td>\n",
       "      <td>[ussenterprise, genesis, asteroid]</td>\n",
       "      <td>en</td>\n",
       "      <td>Star Trek II: The Wrath of Khan</td>\n",
       "      <td>Admiral James T. Kirk is feeling old; the pros...</td>\n",
       "      <td>22.434102</td>\n",
       "      <td>[{\"name\": \"Paramount Pictures\", \"id\": 4}]</td>\n",
       "      <td>[{\"iso_3166_1\": \"US\", \"name\": \"United States o...</td>\n",
       "      <td>1982-06-03</td>\n",
       "      <td>96800000</td>\n",
       "      <td>113.0</td>\n",
       "      <td>[{\"iso_639_1\": \"en\", \"name\": \"English\"}]</td>\n",
       "      <td>Released</td>\n",
       "      <td>At the end of the universe lies the beginning ...</td>\n",
       "      <td>Star Trek II: The Wrath of Khan</td>\n",
       "      <td>7.3</td>\n",
       "      <td>675</td>\n",
       "      <td>Star Trek II: The Wrath of Khan</td>\n",
       "      <td>[williamshatner, leonardnimoy, deforestkelley]</td>\n",
       "      <td>[{'credit_id': '52fe421fc3a36847f8005c31', 'de...</td>\n",
       "      <td>nicholasmeyer</td>\n",
       "      <td>ussenterprise genesis asteroid williamshatner ...</td>\n",
       "    </tr>\n",
       "    <tr>\n",
       "      <th>1550</th>\n",
       "      <td>1959</td>\n",
       "      <td>24000000</td>\n",
       "      <td>[sciencefiction, adventure]</td>\n",
       "      <td>NaN</td>\n",
       "      <td>168</td>\n",
       "      <td>[savingtheworld, sanfrancisco, ussenterprise-a]</td>\n",
       "      <td>en</td>\n",
       "      <td>Star Trek IV: The Voyage Home</td>\n",
       "      <td>Fugitives of the Federation for their daring r...</td>\n",
       "      <td>22.258428</td>\n",
       "      <td>[{\"name\": \"Paramount Pictures\", \"id\": 4}]</td>\n",
       "      <td>[{\"iso_3166_1\": \"US\", \"name\": \"United States o...</td>\n",
       "      <td>1986-11-25</td>\n",
       "      <td>133000000</td>\n",
       "      <td>119.0</td>\n",
       "      <td>[{\"iso_639_1\": \"en\", \"name\": \"English\"}, {\"iso...</td>\n",
       "      <td>Released</td>\n",
       "      <td>The key to saving the future can only be found...</td>\n",
       "      <td>Star Trek IV: The Voyage Home</td>\n",
       "      <td>6.9</td>\n",
       "      <td>477</td>\n",
       "      <td>Star Trek IV: The Voyage Home</td>\n",
       "      <td>[williamshatner, leonardnimoy, deforestkelley]</td>\n",
       "      <td>[{'credit_id': '52fe4222c3a36847f80066ed', 'de...</td>\n",
       "      <td>leonardnimoy</td>\n",
       "      <td>savingtheworld sanfrancisco ussenterprise-a wi...</td>\n",
       "    </tr>\n",
       "    <tr>\n",
       "      <th>1597</th>\n",
       "      <td>755</td>\n",
       "      <td>60000000</td>\n",
       "      <td>[sciencefiction, action, adventure]</td>\n",
       "      <td>NaN</td>\n",
       "      <td>201</td>\n",
       "      <td>[clone, assassination, ambush]</td>\n",
       "      <td>en</td>\n",
       "      <td>Star Trek: Nemesis</td>\n",
       "      <td>En route to the honeymoon of William Riker to ...</td>\n",
       "      <td>21.605533</td>\n",
       "      <td>[{\"name\": \"Paramount Pictures\", \"id\": 4}]</td>\n",
       "      <td>[{\"iso_3166_1\": \"US\", \"name\": \"United States o...</td>\n",
       "      <td>2002-12-13</td>\n",
       "      <td>67312826</td>\n",
       "      <td>117.0</td>\n",
       "      <td>[{\"iso_639_1\": \"en\", \"name\": \"English\"}]</td>\n",
       "      <td>Released</td>\n",
       "      <td>A generation's final journey... begins.</td>\n",
       "      <td>Star Trek: Nemesis</td>\n",
       "      <td>6.1</td>\n",
       "      <td>479</td>\n",
       "      <td>Star Trek: Nemesis</td>\n",
       "      <td>[patrickstewart, jonathanfrakes, brentspiner]</td>\n",
       "      <td>[{'credit_id': '52fe4226c3a36847f8007d29', 'de...</td>\n",
       "      <td>stuartbaird</td>\n",
       "      <td>clone assassination ambush patrickstewart jona...</td>\n",
       "    </tr>\n",
       "    <tr>\n",
       "      <th>1660</th>\n",
       "      <td>1972</td>\n",
       "      <td>24000000</td>\n",
       "      <td>[comedy, war]</td>\n",
       "      <td>http://www.themenwhostareatgoatsmovie.com/</td>\n",
       "      <td>10313</td>\n",
       "      <td>[vietnamveteran, kuwait, newage]</td>\n",
       "      <td>en</td>\n",
       "      <td>The Men Who Stare at Goats</td>\n",
       "      <td>A reporter in Iraq might just have the story o...</td>\n",
       "      <td>20.692190</td>\n",
       "      <td>[{\"name\": \"BBC Films\", \"id\": 288}, {\"name\": \"S...</td>\n",
       "      <td>[{\"iso_3166_1\": \"GB\", \"name\": \"United Kingdom\"...</td>\n",
       "      <td>2009-10-17</td>\n",
       "      <td>68729358</td>\n",
       "      <td>93.0</td>\n",
       "      <td>[{\"iso_639_1\": \"en\", \"name\": \"English\"}]</td>\n",
       "      <td>Released</td>\n",
       "      <td>No goats. No glory.</td>\n",
       "      <td>The Men Who Stare at Goats</td>\n",
       "      <td>5.9</td>\n",
       "      <td>742</td>\n",
       "      <td>The Men Who Stare at Goats</td>\n",
       "      <td>[georgeclooney, ewanmcgregor, jeffbridges]</td>\n",
       "      <td>[{'credit_id': '5989ab3a925141370600675e', 'de...</td>\n",
       "      <td>grantheslov</td>\n",
       "      <td>vietnamveteran kuwait newage georgeclooney ewa...</td>\n",
       "    </tr>\n",
       "    <tr>\n",
       "      <th>1746</th>\n",
       "      <td>581</td>\n",
       "      <td>70000000</td>\n",
       "      <td>[sciencefiction, action, adventure]</td>\n",
       "      <td>NaN</td>\n",
       "      <td>200</td>\n",
       "      <td>[spaceopera, retribution, spacecraftofficer]</td>\n",
       "      <td>en</td>\n",
       "      <td>Star Trek: Insurrection</td>\n",
       "      <td>When an alien race and factions within Starfle...</td>\n",
       "      <td>19.711951</td>\n",
       "      <td>[{\"name\": \"Paramount Pictures\", \"id\": 4}]</td>\n",
       "      <td>[{\"iso_3166_1\": \"US\", \"name\": \"United States o...</td>\n",
       "      <td>1998-12-10</td>\n",
       "      <td>118000000</td>\n",
       "      <td>103.0</td>\n",
       "      <td>[{\"iso_639_1\": \"en\", \"name\": \"English\"}]</td>\n",
       "      <td>Released</td>\n",
       "      <td>The battle for paradise has begun.</td>\n",
       "      <td>Star Trek: Insurrection</td>\n",
       "      <td>6.3</td>\n",
       "      <td>391</td>\n",
       "      <td>Star Trek: Insurrection</td>\n",
       "      <td>[patrickstewart, jonathanfrakes, brentspiner]</td>\n",
       "      <td>[{'credit_id': '52fe4226c3a36847f8007c59', 'de...</td>\n",
       "      <td>jonathanfrakes</td>\n",
       "      <td>spaceopera retribution spacecraftofficer patri...</td>\n",
       "    </tr>\n",
       "    <tr>\n",
       "      <th>1759</th>\n",
       "      <td>1583</td>\n",
       "      <td>30000000</td>\n",
       "      <td>[sciencefiction, action, adventure]</td>\n",
       "      <td>NaN</td>\n",
       "      <td>172</td>\n",
       "      <td>[federation, starfleet, ussenterprise-a]</td>\n",
       "      <td>en</td>\n",
       "      <td>Star Trek V: The Final Frontier</td>\n",
       "      <td>Capt. Kirk and his crew must deal with Mr. Spo...</td>\n",
       "      <td>19.578249</td>\n",
       "      <td>[{\"name\": \"Paramount Pictures\", \"id\": 4}]</td>\n",
       "      <td>[{\"iso_3166_1\": \"US\", \"name\": \"United States o...</td>\n",
       "      <td>1989-06-09</td>\n",
       "      <td>70200000</td>\n",
       "      <td>107.0</td>\n",
       "      <td>[{\"iso_639_1\": \"en\", \"name\": \"English\"}]</td>\n",
       "      <td>Released</td>\n",
       "      <td>Adventure and imagination will meet at the fin...</td>\n",
       "      <td>Star Trek V: The Final Frontier</td>\n",
       "      <td>5.6</td>\n",
       "      <td>376</td>\n",
       "      <td>Star Trek V: The Final Frontier</td>\n",
       "      <td>[williamshatner, leonardnimoy, deforestkelley]</td>\n",
       "      <td>[{'credit_id': '52fe4222c3a36847f80069b1', 'de...</td>\n",
       "      <td>williamshatner</td>\n",
       "      <td>federation starfleet ussenterprise-a williamsh...</td>\n",
       "    </tr>\n",
       "    <tr>\n",
       "      <th>2066</th>\n",
       "      <td>1750</td>\n",
       "      <td>27000000</td>\n",
       "      <td>[sciencefiction, action, adventure]</td>\n",
       "      <td>NaN</td>\n",
       "      <td>174</td>\n",
       "      <td>[farewell, federation, starfleet]</td>\n",
       "      <td>en</td>\n",
       "      <td>Star Trek VI: The Undiscovered Country</td>\n",
       "      <td>On the eve of retirement, Kirk and McCoy are c...</td>\n",
       "      <td>16.188572</td>\n",
       "      <td>[{\"name\": \"Paramount Pictures\", \"id\": 4}]</td>\n",
       "      <td>[{\"iso_3166_1\": \"US\", \"name\": \"United States o...</td>\n",
       "      <td>1991-12-05</td>\n",
       "      <td>96900000</td>\n",
       "      <td>113.0</td>\n",
       "      <td>[{\"iso_639_1\": \"en\", \"name\": \"English\"}]</td>\n",
       "      <td>Released</td>\n",
       "      <td>The battle for peace has begun.</td>\n",
       "      <td>Star Trek VI: The Undiscovered Country</td>\n",
       "      <td>6.7</td>\n",
       "      <td>413</td>\n",
       "      <td>Star Trek VI: The Undiscovered Country</td>\n",
       "      <td>[williamshatner, leonardnimoy, deforestkelley]</td>\n",
       "      <td>[{'credit_id': '52fe4222c3a36847f8006ac1', 'de...</td>\n",
       "      <td>nicholasmeyer</td>\n",
       "      <td>farewell federation starfleet williamshatner l...</td>\n",
       "    </tr>\n",
       "    <tr>\n",
       "      <th>2139</th>\n",
       "      <td>2317</td>\n",
       "      <td>18000000</td>\n",
       "      <td>[sciencefiction, action, adventure]</td>\n",
       "      <td>NaN</td>\n",
       "      <td>157</td>\n",
       "      <td>[]</td>\n",
       "      <td>en</td>\n",
       "      <td>Star Trek III: The Search for Spock</td>\n",
       "      <td>Admiral Kirk and his bridge crew risk their ca...</td>\n",
       "      <td>15.314027</td>\n",
       "      <td>[{\"name\": \"Paramount Pictures\", \"id\": 4}]</td>\n",
       "      <td>[{\"iso_3166_1\": \"US\", \"name\": \"United States o...</td>\n",
       "      <td>1984-05-31</td>\n",
       "      <td>87000000</td>\n",
       "      <td>105.0</td>\n",
       "      <td>[{\"iso_639_1\": \"en\", \"name\": \"English\"}, {\"iso...</td>\n",
       "      <td>Released</td>\n",
       "      <td>A dying planet. A fight for life.</td>\n",
       "      <td>Star Trek III: The Search for Spock</td>\n",
       "      <td>6.4</td>\n",
       "      <td>434</td>\n",
       "      <td>Star Trek III: The Search for Spock</td>\n",
       "      <td>[williamshatner, leonardnimoy, deforestkelley]</td>\n",
       "      <td>[{'credit_id': '52fe4220c3a36847f8005eb3', 'de...</td>\n",
       "      <td>leonardnimoy</td>\n",
       "      <td>williamshatner leonardnimoy deforestkelley le...</td>\n",
       "    </tr>\n",
       "    <tr>\n",
       "      <th>2207</th>\n",
       "      <td>1303</td>\n",
       "      <td>38000000</td>\n",
       "      <td>[sciencefiction, action, adventure]</td>\n",
       "      <td>NaN</td>\n",
       "      <td>193</td>\n",
       "      <td>[basedontvseries, death, explodingplanet]</td>\n",
       "      <td>en</td>\n",
       "      <td>Star Trek: Generations</td>\n",
       "      <td>Captain Jean-Luc Picard and the crew of the En...</td>\n",
       "      <td>14.779041</td>\n",
       "      <td>[{\"name\": \"Paramount Pictures\", \"id\": 4}]</td>\n",
       "      <td>[{\"iso_3166_1\": \"US\", \"name\": \"United States o...</td>\n",
       "      <td>1994-11-17</td>\n",
       "      <td>120000000</td>\n",
       "      <td>118.0</td>\n",
       "      <td>[{\"iso_639_1\": \"en\", \"name\": \"English\"}]</td>\n",
       "      <td>Released</td>\n",
       "      <td>Boldly go.</td>\n",
       "      <td>Star Trek: Generations</td>\n",
       "      <td>6.4</td>\n",
       "      <td>452</td>\n",
       "      <td>Star Trek: Generations</td>\n",
       "      <td>[patrickstewart, jonathanfrakes, brentspiner]</td>\n",
       "      <td>[{'credit_id': '52fe4225c3a36847f8007717', 'de...</td>\n",
       "      <td>davidcarson</td>\n",
       "      <td>basedontvseries death explodingplanet patricks...</td>\n",
       "    </tr>\n",
       "    <tr>\n",
       "      <th>2557</th>\n",
       "      <td>1315</td>\n",
       "      <td>57000000</td>\n",
       "      <td>[music, drama, comedy]</td>\n",
       "      <td>NaN</td>\n",
       "      <td>12508</td>\n",
       "      <td>[rockstar, success, discontentednessanddisplea...</td>\n",
       "      <td>en</td>\n",
       "      <td>Rock Star</td>\n",
       "      <td>Rock Star tells the story of Chris Cole and a ...</td>\n",
       "      <td>11.608150</td>\n",
       "      <td>[{\"name\": \"Bel Air Entertainment\", \"id\": 788},...</td>\n",
       "      <td>[{\"iso_3166_1\": \"US\", \"name\": \"United States o...</td>\n",
       "      <td>2001-09-04</td>\n",
       "      <td>16991902</td>\n",
       "      <td>105.0</td>\n",
       "      <td>[{\"iso_639_1\": \"en\", \"name\": \"English\"}]</td>\n",
       "      <td>Released</td>\n",
       "      <td>The story of a wanna be who got to be.</td>\n",
       "      <td>Rock Star</td>\n",
       "      <td>6.0</td>\n",
       "      <td>190</td>\n",
       "      <td>Rock Star</td>\n",
       "      <td>[markwahlberg, jenniferaniston, jasonflemyng]</td>\n",
       "      <td>[{'credit_id': '52fe44f19251416c750463d7', 'de...</td>\n",
       "      <td>stephenherek</td>\n",
       "      <td>rockstar success discontentednessanddispleased...</td>\n",
       "    </tr>\n",
       "    <tr>\n",
       "      <th>2581</th>\n",
       "      <td>2586</td>\n",
       "      <td>15000000</td>\n",
       "      <td>[fantasy, drama, horror]</td>\n",
       "      <td>NaN</td>\n",
       "      <td>11495</td>\n",
       "      <td>[fire, telepathy, intelligence]</td>\n",
       "      <td>en</td>\n",
       "      <td>Firestarter</td>\n",
       "      <td>As youths, Andy McGee (David Keith) and his fu...</td>\n",
       "      <td>11.379652</td>\n",
       "      <td>[{\"name\": \"Universal Pictures\", \"id\": 33}, {\"n...</td>\n",
       "      <td>[{\"iso_3166_1\": \"US\", \"name\": \"United States o...</td>\n",
       "      <td>1984-05-11</td>\n",
       "      <td>17080167</td>\n",
       "      <td>114.0</td>\n",
       "      <td>[{\"iso_639_1\": \"en\", \"name\": \"English\"}, {\"iso...</td>\n",
       "      <td>Released</td>\n",
       "      <td>Will she have the power... to survive?</td>\n",
       "      <td>Firestarter</td>\n",
       "      <td>5.9</td>\n",
       "      <td>173</td>\n",
       "      <td>Firestarter</td>\n",
       "      <td>[davidkeith, drewbarrymore, freddiejones]</td>\n",
       "      <td>[{'credit_id': '58c9f1e1c3a36841b6001b46', 'de...</td>\n",
       "      <td>markl.lester</td>\n",
       "      <td>fire telepathy intelligence davidkeith drewbar...</td>\n",
       "    </tr>\n",
       "    <tr>\n",
       "      <th>2738</th>\n",
       "      <td>2418</td>\n",
       "      <td>0</td>\n",
       "      <td>[comedy]</td>\n",
       "      <td>NaN</td>\n",
       "      <td>13778</td>\n",
       "      <td>[loser, childprodigy]</td>\n",
       "      <td>en</td>\n",
       "      <td>Dickie Roberts: Former Child Star</td>\n",
       "      <td>TV child star of the '70s, Dickie Roberts is n...</td>\n",
       "      <td>10.149569</td>\n",
       "      <td>[{\"name\": \"Paramount Pictures\", \"id\": 4}, {\"na...</td>\n",
       "      <td>[{\"iso_3166_1\": \"US\", \"name\": \"United States o...</td>\n",
       "      <td>2003-09-05</td>\n",
       "      <td>0</td>\n",
       "      <td>98.0</td>\n",
       "      <td>[{\"iso_639_1\": \"en\", \"name\": \"English\"}]</td>\n",
       "      <td>Released</td>\n",
       "      <td>50 million people used to watch him on TV. Now...</td>\n",
       "      <td>Dickie Roberts: Former Child Star</td>\n",
       "      <td>5.1</td>\n",
       "      <td>64</td>\n",
       "      <td>Dickie Roberts: Former Child Star</td>\n",
       "      <td>[davidspade, marymccormack, craigbierko]</td>\n",
       "      <td>[{'credit_id': '52fe459c9251416c7505c745', 'de...</td>\n",
       "      <td>samweisman</td>\n",
       "      <td>loser childprodigy davidspade marymccormack cr...</td>\n",
       "    </tr>\n",
       "    <tr>\n",
       "      <th>2860</th>\n",
       "      <td>3222</td>\n",
       "      <td>8500000</td>\n",
       "      <td>[drama, romance]</td>\n",
       "      <td>http://www.brightstar-movie.com/</td>\n",
       "      <td>29963</td>\n",
       "      <td>[poet, independentfilm, duringcreditsstinger]</td>\n",
       "      <td>en</td>\n",
       "      <td>Bright Star</td>\n",
       "      <td>In 1818, high-spirited young Fanny Brawne find...</td>\n",
       "      <td>9.230073</td>\n",
       "      <td>[{\"name\": \"BBC Films\", \"id\": 288}, {\"name\": \"P...</td>\n",
       "      <td>[{\"iso_3166_1\": \"GB\", \"name\": \"United Kingdom\"...</td>\n",
       "      <td>2009-11-05</td>\n",
       "      <td>4440055</td>\n",
       "      <td>119.0</td>\n",
       "      <td>[{\"iso_639_1\": \"fr\", \"name\": \"Fran\\u00e7ais\"},...</td>\n",
       "      <td>Released</td>\n",
       "      <td>First love burns brightest.</td>\n",
       "      <td>Bright Star</td>\n",
       "      <td>6.8</td>\n",
       "      <td>107</td>\n",
       "      <td>Bright Star</td>\n",
       "      <td>[abbiecornish, benwhishaw, paulschneider]</td>\n",
       "      <td>[{'credit_id': '591b3cecc3a3683fb6068bc5', 'de...</td>\n",
       "      <td>janecampion</td>\n",
       "      <td>poet independentfilm duringcreditsstinger abbi...</td>\n",
       "    </tr>\n",
       "    <tr>\n",
       "      <th>2963</th>\n",
       "      <td>3405</td>\n",
       "      <td>7000000</td>\n",
       "      <td>[adventure, sciencefiction]</td>\n",
       "      <td>NaN</td>\n",
       "      <td>13001</td>\n",
       "      <td>[wormhole, spacetravel, supernaturalpowers]</td>\n",
       "      <td>en</td>\n",
       "      <td>Stargate: The Ark of Truth</td>\n",
       "      <td>SG-1 searches for an ancient weapon which coul...</td>\n",
       "      <td>8.591387</td>\n",
       "      <td>[{\"name\": \"Metro-Goldwyn-Mayer (MGM)\", \"id\": 8...</td>\n",
       "      <td>[{\"iso_3166_1\": \"CA\", \"name\": \"Canada\"}, {\"iso...</td>\n",
       "      <td>2008-03-11</td>\n",
       "      <td>8900000</td>\n",
       "      <td>97.0</td>\n",
       "      <td>[{\"iso_639_1\": \"en\", \"name\": \"English\"}]</td>\n",
       "      <td>Released</td>\n",
       "      <td>The lines have been drawn. The battle has been...</td>\n",
       "      <td>Stargate: The Ark of Truth</td>\n",
       "      <td>6.9</td>\n",
       "      <td>140</td>\n",
       "      <td>Stargate: The Ark of Truth</td>\n",
       "      <td>[benbrowder, amandatapping, christopherjudge]</td>\n",
       "      <td>[{'credit_id': '52fe452d9251416c7504e3ed', 'de...</td>\n",
       "      <td>robertc.cooper</td>\n",
       "      <td>wormhole spacetravel supernaturalpowers benbro...</td>\n",
       "    </tr>\n",
       "    <tr>\n",
       "      <th>3380</th>\n",
       "      <td>3599</td>\n",
       "      <td>5000000</td>\n",
       "      <td>[drama, mystery, romance]</td>\n",
       "      <td>NaN</td>\n",
       "      <td>26748</td>\n",
       "      <td>[sheriff, familysecrets, neo-western]</td>\n",
       "      <td>en</td>\n",
       "      <td>Lone Star</td>\n",
       "      <td>When the skeleton of his murdered predecessor ...</td>\n",
       "      <td>5.960149</td>\n",
       "      <td>[{\"name\": \"Castle Rock Entertainment\", \"id\": 9...</td>\n",
       "      <td>[{\"iso_3166_1\": \"US\", \"name\": \"United States o...</td>\n",
       "      <td>1996-06-21</td>\n",
       "      <td>13269963</td>\n",
       "      <td>135.0</td>\n",
       "      <td>[{\"iso_639_1\": \"en\", \"name\": \"English\"}, {\"iso...</td>\n",
       "      <td>Released</td>\n",
       "      <td>John Sayles invites you to return to the scene...</td>\n",
       "      <td>Lone Star</td>\n",
       "      <td>6.9</td>\n",
       "      <td>77</td>\n",
       "      <td>Lone Star</td>\n",
       "      <td>[chriscooper, matthewmcconaughey, elizabethpeña]</td>\n",
       "      <td>[{'credit_id': '52fe4517c3a368484e047eab', 'de...</td>\n",
       "      <td>johnsayles</td>\n",
       "      <td>sheriff familysecrets neo-western chriscooper ...</td>\n",
       "    </tr>\n",
       "    <tr>\n",
       "      <th>3505</th>\n",
       "      <td>4363</td>\n",
       "      <td>1000000</td>\n",
       "      <td>[documentary, music]</td>\n",
       "      <td>NaN</td>\n",
       "      <td>159014</td>\n",
       "      <td>[]</td>\n",
       "      <td>en</td>\n",
       "      <td>20 Feet from Stardom</td>\n",
       "      <td>Backup singers live in a world that lies just ...</td>\n",
       "      <td>5.247956</td>\n",
       "      <td>[{\"name\": \"Tremolo Productions\", \"id\": 58637}]</td>\n",
       "      <td>[{\"iso_3166_1\": \"US\", \"name\": \"United States o...</td>\n",
       "      <td>2013-06-14</td>\n",
       "      <td>0</td>\n",
       "      <td>89.0</td>\n",
       "      <td>[{\"iso_639_1\": \"en\", \"name\": \"English\"}]</td>\n",
       "      <td>Released</td>\n",
       "      <td>NaN</td>\n",
       "      <td>20 Feet from Stardom</td>\n",
       "      <td>7.4</td>\n",
       "      <td>85</td>\n",
       "      <td>20 Feet from Stardom</td>\n",
       "      <td>[bettemidler, mickjagger, sting]</td>\n",
       "      <td>[{'credit_id': '52fe4c009251416c910ec63b', 'de...</td>\n",
       "      <td>morganneville</td>\n",
       "      <td>bettemidler mickjagger sting morganneville do...</td>\n",
       "    </tr>\n",
       "    <tr>\n",
       "      <th>3717</th>\n",
       "      <td>2679</td>\n",
       "      <td>0</td>\n",
       "      <td>[comedy, family]</td>\n",
       "      <td>NaN</td>\n",
       "      <td>13824</td>\n",
       "      <td>[]</td>\n",
       "      <td>en</td>\n",
       "      <td>Superstar</td>\n",
       "      <td>Orphan Mary Katherine Gallagher, an ugly duckl...</td>\n",
       "      <td>4.047010</td>\n",
       "      <td>[{\"name\": \"SNL Studios\", \"id\": 2822}]</td>\n",
       "      <td>[{\"iso_3166_1\": \"CA\", \"name\": \"Canada\"}]</td>\n",
       "      <td>1999-10-08</td>\n",
       "      <td>0</td>\n",
       "      <td>81.0</td>\n",
       "      <td>[{\"iso_639_1\": \"en\", \"name\": \"English\"}]</td>\n",
       "      <td>Released</td>\n",
       "      <td>Dare to dream.</td>\n",
       "      <td>Superstar</td>\n",
       "      <td>5.1</td>\n",
       "      <td>83</td>\n",
       "      <td>Superstar</td>\n",
       "      <td>[mollyshannon, willferrell, elainehendrix]</td>\n",
       "      <td>[{'credit_id': '52fe45a99251416c7505e2cb', 'de...</td>\n",
       "      <td>brucemcculloch</td>\n",
       "      <td>mollyshannon willferrell elainehendrix brucem...</td>\n",
       "    </tr>\n",
       "    <tr>\n",
       "      <th>3738</th>\n",
       "      <td>3079</td>\n",
       "      <td>10000000</td>\n",
       "      <td>[comedy]</td>\n",
       "      <td>http://www.buckylarson.com/</td>\n",
       "      <td>67911</td>\n",
       "      <td>[pornostar, hollywood]</td>\n",
       "      <td>en</td>\n",
       "      <td>Bucky Larson: Born to Be a Star</td>\n",
       "      <td>A kid from the Midwest moves out to Hollywood ...</td>\n",
       "      <td>3.919057</td>\n",
       "      <td>[{\"name\": \"Columbia Pictures\", \"id\": 5}, {\"nam...</td>\n",
       "      <td>[{\"iso_3166_1\": \"US\", \"name\": \"United States o...</td>\n",
       "      <td>2011-09-09</td>\n",
       "      <td>0</td>\n",
       "      <td>97.0</td>\n",
       "      <td>[{\"iso_639_1\": \"en\", \"name\": \"English\"}, {\"iso...</td>\n",
       "      <td>Released</td>\n",
       "      <td>There Are No Small Actors. Just Small Parts.</td>\n",
       "      <td>Bucky Larson: Born to Be a Star</td>\n",
       "      <td>4.4</td>\n",
       "      <td>51</td>\n",
       "      <td>Bucky Larson: Born to Be a Star</td>\n",
       "      <td>[nickswardson, christinaricci, stephendorff]</td>\n",
       "      <td>[{'credit_id': '52fe477dc3a368484e0c9c6f', 'de...</td>\n",
       "      <td>tombrady</td>\n",
       "      <td>pornostar hollywood nickswardson christinaricc...</td>\n",
       "    </tr>\n",
       "    <tr>\n",
       "      <th>4176</th>\n",
       "      <td>3208</td>\n",
       "      <td>0</td>\n",
       "      <td>[action, adventure, animation]</td>\n",
       "      <td>http://www.starwars.com/tv-shows/star-wars-the...</td>\n",
       "      <td>333355</td>\n",
       "      <td>[war, spaceopera, clonetroopers]</td>\n",
       "      <td>en</td>\n",
       "      <td>Star Wars: Clone Wars (Volume 1)</td>\n",
       "      <td>The Saga continues with the Emmy-winning \"Star...</td>\n",
       "      <td>1.881466</td>\n",
       "      <td>[{\"name\": \"Lucasfilm\", \"id\": 1}, {\"name\": \"Car...</td>\n",
       "      <td>[{\"iso_3166_1\": \"KR\", \"name\": \"South Korea\"}, ...</td>\n",
       "      <td>2005-03-21</td>\n",
       "      <td>0</td>\n",
       "      <td>69.0</td>\n",
       "      <td>[{\"iso_639_1\": \"en\", \"name\": \"English\"}]</td>\n",
       "      <td>Released</td>\n",
       "      <td>NaN</td>\n",
       "      <td>Star Wars: Clone Wars: Volume 1</td>\n",
       "      <td>8.0</td>\n",
       "      <td>27</td>\n",
       "      <td>Star Wars: Clone Wars: Volume 1</td>\n",
       "      <td>[tomkane, coreyburton, matlucas]</td>\n",
       "      <td>[{'credit_id': '56afb1ffc3a36831720007cb', 'de...</td>\n",
       "      <td>genndytartakovsky</td>\n",
       "      <td>war spaceopera clonetroopers tomkane coreyburt...</td>\n",
       "    </tr>\n",
       "    <tr>\n",
       "      <th>4182</th>\n",
       "      <td>3300</td>\n",
       "      <td>0</td>\n",
       "      <td>[comedy, romance]</td>\n",
       "      <td>NaN</td>\n",
       "      <td>220488</td>\n",
       "      <td>[hongkong, macau, womandirector]</td>\n",
       "      <td>zh</td>\n",
       "      <td>非常幸运</td>\n",
       "      <td>My Lucky Star is a 2013 Chinese romance film d...</td>\n",
       "      <td>1.864530</td>\n",
       "      <td>[{\"name\": \"Bona International Film Group\", \"id...</td>\n",
       "      <td>[{\"iso_3166_1\": \"CN\", \"name\": \"China\"}]</td>\n",
       "      <td>2013-09-17</td>\n",
       "      <td>0</td>\n",
       "      <td>114.0</td>\n",
       "      <td>[{\"iso_639_1\": \"zh\", \"name\": \"\\u666e\\u901a\\u8b...</td>\n",
       "      <td>Released</td>\n",
       "      <td>NaN</td>\n",
       "      <td>My Lucky Star</td>\n",
       "      <td>4.3</td>\n",
       "      <td>8</td>\n",
       "      <td>My Lucky Star</td>\n",
       "      <td>[zhangziyi, leehomwang, rubylin]</td>\n",
       "      <td>[{'credit_id': '533ef0970e0a261e99000495', 'de...</td>\n",
       "      <td>denniegordon</td>\n",
       "      <td>hongkong macau womandirector zhangziyi leehomw...</td>\n",
       "    </tr>\n",
       "    <tr>\n",
       "      <th>4535</th>\n",
       "      <td>4490</td>\n",
       "      <td>0</td>\n",
       "      <td>[documentary, foreign]</td>\n",
       "      <td>http://www.starsuckersmovie.com</td>\n",
       "      <td>40658</td>\n",
       "      <td>[]</td>\n",
       "      <td>en</td>\n",
       "      <td>Starsuckers</td>\n",
       "      <td>Starsuckers is the most controversial document...</td>\n",
       "      <td>0.429083</td>\n",
       "      <td>[]</td>\n",
       "      <td>[]</td>\n",
       "      <td>2009-09-30</td>\n",
       "      <td>0</td>\n",
       "      <td>103.0</td>\n",
       "      <td>[{\"iso_639_1\": \"en\", \"name\": \"English\"}]</td>\n",
       "      <td>Released</td>\n",
       "      <td>NaN</td>\n",
       "      <td>Starsuckers</td>\n",
       "      <td>6.2</td>\n",
       "      <td>5</td>\n",
       "      <td>Starsuckers</td>\n",
       "      <td>[elliscashmore, maxclifford, richardcurtis]</td>\n",
       "      <td>[{'credit_id': '545d24490e0a261fb9004b2b', 'de...</td>\n",
       "      <td>chrisatkins</td>\n",
       "      <td>elliscashmore maxclifford richardcurtis chris...</td>\n",
       "    </tr>\n",
       "  </tbody>\n",
       "</table>\n",
       "</div>"
      ],
      "text/plain": [
       "      index                        ...                                                                       soup\n",
       "44     2912                        ...                          android galaxy hermit markhamill harrisonford ...\n",
       "170      47                        ...                          spacecraft friendship sequel chrispine zachary...\n",
       "190    2838                        ...                          amsterdam basedonnovel supportgroup shailenewo...\n",
       "200     158                        ...                          spacecraft teleportation spacemission chrispin...\n",
       "261      56                        ...                          sequel stranded hatred chrispine zacharyquinto...\n",
       "342     300                        ...                          moon asteroid spacemarine caspervandien diname...\n",
       "390     233                        ...                          prophecy senate queen liamneeson ewanmcgregor ...\n",
       "501     591                        ...                          witch basedonnovel newlove clairedanes charlie...\n",
       "612     229                        ...                          showdown deathstar vision ewanmcgregor natalie...\n",
       "617     230                        ...                          senate investigation army ewanmcgregor natalie...\n",
       "1173    726                        ...                          informant jumpingfromarooftop surveillancefoot...\n",
       "1346   1034                        ...                          federation starfleet borg patrickstewart jonat...\n",
       "1406   1367                        ...                          artificialintelligence ussenterprise starfleet...\n",
       "1544   2815                        ...                          ussenterprise genesis asteroid williamshatner ...\n",
       "1550   1959                        ...                          savingtheworld sanfrancisco ussenterprise-a wi...\n",
       "1597    755                        ...                          clone assassination ambush patrickstewart jona...\n",
       "1660   1972                        ...                          vietnamveteran kuwait newage georgeclooney ewa...\n",
       "1746    581                        ...                          spaceopera retribution spacecraftofficer patri...\n",
       "1759   1583                        ...                          federation starfleet ussenterprise-a williamsh...\n",
       "2066   1750                        ...                          farewell federation starfleet williamshatner l...\n",
       "2139   2317                        ...                           williamshatner leonardnimoy deforestkelley le...\n",
       "2207   1303                        ...                          basedontvseries death explodingplanet patricks...\n",
       "2557   1315                        ...                          rockstar success discontentednessanddispleased...\n",
       "2581   2586                        ...                          fire telepathy intelligence davidkeith drewbar...\n",
       "2738   2418                        ...                          loser childprodigy davidspade marymccormack cr...\n",
       "2860   3222                        ...                          poet independentfilm duringcreditsstinger abbi...\n",
       "2963   3405                        ...                          wormhole spacetravel supernaturalpowers benbro...\n",
       "3380   3599                        ...                          sheriff familysecrets neo-western chriscooper ...\n",
       "3505   4363                        ...                           bettemidler mickjagger sting morganneville do...\n",
       "3717   2679                        ...                           mollyshannon willferrell elainehendrix brucem...\n",
       "3738   3079                        ...                          pornostar hollywood nickswardson christinaricc...\n",
       "4176   3208                        ...                          war spaceopera clonetroopers tomkane coreyburt...\n",
       "4182   3300                        ...                          hongkong macau womandirector zhangziyi leehomw...\n",
       "4535   4490                        ...                           elliscashmore maxclifford richardcurtis chris...\n",
       "\n",
       "[34 rows x 26 columns]"
      ]
     },
     "execution_count": 39,
     "metadata": {},
     "output_type": "execute_result"
    }
   ],
   "source": [
    "movies[movies['title'].str.contains('star', case=False)]"
   ]
  },
  {
   "cell_type": "markdown",
   "metadata": {
    "_uuid": "71b15b5c090694303fa5e8d67b8bf394e07f45d6"
   },
   "source": [
    "# **Collaborative Filtering**\n",
    "\n",
    "Our content based engine suffers from some severe limitations. It is only capable of suggesting movies which are close to a certain movie. That is, it is not capable of capturing tastes and providing recommendations across genres.\n",
    "\n",
    "Also, the engine that we built is not really personal in that it doesn't capture the personal tastes and biases of a user. Anyone querying our engine for recommendations based on a movie will receive the same recommendations for that movie, regardless of who she/he is.\n",
    "\n",
    "Therefore, in this section, we will use a technique called Collaborative Filtering to make recommendations to Movie Watchers.\n",
    "It is basically of two types:-\n",
    "\n",
    "*  **User based filtering**-  These systems recommend products to a user that similar users have liked. For measuring the similarity between two users we can either use pearson correlation or cosine similarity.\n",
    "This filtering technique can be illustrated with an example. In the following matrixes, each row represents a user, while the columns correspond to different movies except the last one which records the similarity between that user and the target user. Each cell represents the rating that the user gives to that movie. Assume user E is the target.\n",
    "![](https://cdn-images-1.medium.com/max/1000/1*9NBFo4AUQABKfoUOpE3F8Q.png)\n",
    "\n",
    "Since user A and F do not share any movie ratings in common with user E, their similarities with user E are not defined in Pearson Correlation. Therefore, we only need to consider user B, C, and D. Based on Pearson Correlation, we can compute the following similarity.\n",
    "![](https://cdn-images-1.medium.com/max/1000/1*jZIMJzKM1hKTFftHfcSxRw.png)\n",
    "\n",
    "From the above table we can see that user D is very different from user E as the Pearson Correlation between them is negative. He rated Me Before You higher than his rating average, while user E did the opposite. Now, we can start to fill in the blank for the movies that user E has not rated based on other users.\n",
    "![](https://cdn-images-1.medium.com/max/1000/1*9TC6BrfxYttJwiATFAIFBg.png)\n",
    "\n",
    "Although computing user-based CF is very simple, it suffers from several problems. One main issue is that users’ preference can change over time. It indicates that precomputing the matrix based on their neighboring users may lead to bad performance. To tackle this problem, we can apply item-based CF.\n",
    "\n",
    "* **Item Based Collaborative Filtering** - Instead of measuring the similarity between users, the item-based CF recommends items based on their similarity with the items that the target user rated. Likewise, the similarity can be computed with Pearson Correlation or Cosine Similarity. The major difference is that, with item-based collaborative filtering, we fill in the blank vertically, as oppose to the horizontal manner that user-based CF does. The following table shows how to do so for the movie Me Before You.\n",
    "![](https://cdn-images-1.medium.com/max/1000/1*LqFnWb-cm92HoMYBL840Ew.png)\n",
    "\n",
    "It successfully avoids the problem posed by dynamic user preference as item-based CF is more static. However, several problems remain for this method. First, the main issue is ***scalability***. The computation grows with both the customer and the product. The worst case complexity is O(mn) with m users and n items. In addition, ***sparsity*** is another concern. Take a look at the above table again. Although there is only one user that rated both Matrix and Titanic rated, the similarity between them is 1. In extreme cases, we can have millions of users and the similarity between two fairly different movies could be very high simply because they have similar rank for the only user who ranked them both.\n",
    "\n"
   ]
  },
  {
   "cell_type": "markdown",
   "metadata": {
    "_uuid": "4307f75107f9c5e5f911d52a6f1dc5530990c75e"
   },
   "source": [
    "### **Single Value Decomposition**\n",
    "One way to handle the scalability and sparsity issue created by CF is to leverage a **latent factor model** to capture the similarity between users and items. Essentially, we want to turn the recommendation problem into an optimization problem. We can view it as how good we are in predicting the rating for items given a user. One common metric is Root Mean Square Error (RMSE). **The lower the RMSE, the better the performance**.\n",
    "\n",
    "Now talking about latent factor you might be wondering what is it ?It is a broad idea which describes a property or concept that a user or an item have. For instance, for music, latent factor can refer to the genre that the music belongs to. SVD decreases the dimension of the utility matrix by extracting its latent factors. Essentially, we map each user and each item into a latent space with dimension r. Therefore, it helps us better understand the relationship between users and items as they become directly comparable. The below figure illustrates this idea.\n",
    "\n",
    "![](https://cdn-images-1.medium.com/max/800/1*GUw90kG2ltTd2k_iv3Vo0Q.png)"
   ]
  },
  {
   "cell_type": "markdown",
   "metadata": {
    "_uuid": "defca8163cfc24a97bee620d6a3d501aa2ec95ae"
   },
   "source": [
    "Now enough said , let's see how to implement this.\n",
    "Since the dataset we used before did not have userId(which is necessary for collaborative filtering) let's load another dataset. We'll be using the [**Surprise** ](https://surprise.readthedocs.io/en/stable/index.html) library to implement SVD."
   ]
  },
  {
   "cell_type": "code",
   "execution_count": 40,
   "metadata": {
    "_uuid": "9a7faf48bf42293d18b29efac95e15010f6c900e",
    "execution": {
     "iopub.execute_input": "2022-12-04T03:00:57.283996Z",
     "iopub.status.busy": "2022-12-04T03:00:57.283609Z",
     "iopub.status.idle": "2022-12-04T03:00:57.537130Z",
     "shell.execute_reply": "2022-12-04T03:00:57.536105Z",
     "shell.execute_reply.started": "2022-12-04T03:00:57.283905Z"
    }
   },
   "outputs": [
    {
     "data": {
      "text/html": [
       "<div>\n",
       "<style scoped>\n",
       "    .dataframe tbody tr th:only-of-type {\n",
       "        vertical-align: middle;\n",
       "    }\n",
       "\n",
       "    .dataframe tbody tr th {\n",
       "        vertical-align: top;\n",
       "    }\n",
       "\n",
       "    .dataframe thead th {\n",
       "        text-align: right;\n",
       "    }\n",
       "</style>\n",
       "<table border=\"1\" class=\"dataframe\">\n",
       "  <thead>\n",
       "    <tr style=\"text-align: right;\">\n",
       "      <th></th>\n",
       "      <th>userId</th>\n",
       "      <th>movieId</th>\n",
       "      <th>rating</th>\n",
       "      <th>timestamp</th>\n",
       "    </tr>\n",
       "  </thead>\n",
       "  <tbody>\n",
       "    <tr>\n",
       "      <th>0</th>\n",
       "      <td>1</td>\n",
       "      <td>31</td>\n",
       "      <td>2.5</td>\n",
       "      <td>1260759144</td>\n",
       "    </tr>\n",
       "    <tr>\n",
       "      <th>1</th>\n",
       "      <td>1</td>\n",
       "      <td>1029</td>\n",
       "      <td>3.0</td>\n",
       "      <td>1260759179</td>\n",
       "    </tr>\n",
       "    <tr>\n",
       "      <th>2</th>\n",
       "      <td>1</td>\n",
       "      <td>1061</td>\n",
       "      <td>3.0</td>\n",
       "      <td>1260759182</td>\n",
       "    </tr>\n",
       "    <tr>\n",
       "      <th>3</th>\n",
       "      <td>1</td>\n",
       "      <td>1129</td>\n",
       "      <td>2.0</td>\n",
       "      <td>1260759185</td>\n",
       "    </tr>\n",
       "    <tr>\n",
       "      <th>4</th>\n",
       "      <td>1</td>\n",
       "      <td>1172</td>\n",
       "      <td>4.0</td>\n",
       "      <td>1260759205</td>\n",
       "    </tr>\n",
       "  </tbody>\n",
       "</table>\n",
       "</div>"
      ],
      "text/plain": [
       "   userId  movieId  rating   timestamp\n",
       "0       1       31     2.5  1260759144\n",
       "1       1     1029     3.0  1260759179\n",
       "2       1     1061     3.0  1260759182\n",
       "3       1     1129     2.0  1260759185\n",
       "4       1     1172     4.0  1260759205"
      ]
     },
     "execution_count": 40,
     "metadata": {},
     "output_type": "execute_result"
    }
   ],
   "source": [
    "from surprise import Reader, Dataset, SVD, evaluate\n",
    "reader = Reader()\n",
    "ratings = pd.read_csv('../input/the-movies-dataset/ratings_small.csv')\n",
    "ratings.head()"
   ]
  },
  {
   "cell_type": "markdown",
   "metadata": {
    "_uuid": "f8a5cd5580510c27846a564bfa6d13f1a6dfa6de"
   },
   "source": [
    "Note that in this dataset movies are rated on a scale of 5 unlike the earlier one."
   ]
  },
  {
   "cell_type": "code",
   "execution_count": 41,
   "metadata": {
    "_uuid": "75166cecd9821bab4299605b66ea2a7787a4c3b7",
    "execution": {
     "iopub.execute_input": "2022-12-04T03:01:14.695130Z",
     "iopub.status.busy": "2022-12-04T03:01:14.694761Z",
     "iopub.status.idle": "2022-12-04T03:01:14.960731Z",
     "shell.execute_reply": "2022-12-04T03:01:14.959549Z",
     "shell.execute_reply.started": "2022-12-04T03:01:14.695069Z"
    }
   },
   "outputs": [],
   "source": [
    "data = Dataset.load_from_df(ratings[['userId', 'movieId', 'rating']], reader)\n",
    "data.split(n_folds=5)"
   ]
  },
  {
   "cell_type": "code",
   "execution_count": 42,
   "metadata": {
    "_uuid": "17880aee6e7750afed98002593251010dcf5fb20",
    "execution": {
     "iopub.execute_input": "2022-12-04T03:01:20.337221Z",
     "iopub.status.busy": "2022-12-04T03:01:20.336862Z",
     "iopub.status.idle": "2022-12-04T03:01:53.028204Z",
     "shell.execute_reply": "2022-12-04T03:01:53.027454Z",
     "shell.execute_reply.started": "2022-12-04T03:01:20.337163Z"
    }
   },
   "outputs": [
    {
     "name": "stderr",
     "output_type": "stream",
     "text": [
      "/opt/conda/lib/python3.6/site-packages/surprise/evaluate.py:66: UserWarning: The evaluate() method is deprecated. Please use model_selection.cross_validate() instead.\n",
      "  'model_selection.cross_validate() instead.', UserWarning)\n",
      "/opt/conda/lib/python3.6/site-packages/surprise/dataset.py:193: UserWarning: Using data.split() or using load_from_folds() without using a CV iterator is now deprecated. \n",
      "  UserWarning)\n"
     ]
    },
    {
     "name": "stdout",
     "output_type": "stream",
     "text": [
      "Evaluating RMSE, MAE of algorithm SVD.\n",
      "\n",
      "------------\n",
      "Fold 1\n",
      "RMSE: 0.8984\n",
      "MAE:  0.6930\n",
      "------------\n",
      "Fold 2\n",
      "RMSE: 0.8929\n",
      "MAE:  0.6924\n",
      "------------\n",
      "Fold 3\n",
      "RMSE: 0.9018\n",
      "MAE:  0.6915\n",
      "------------\n",
      "Fold 4\n",
      "RMSE: 0.8933\n",
      "MAE:  0.6875\n",
      "------------\n",
      "Fold 5\n",
      "RMSE: 0.8963\n",
      "MAE:  0.6878\n",
      "------------\n",
      "------------\n",
      "Mean RMSE: 0.8965\n",
      "Mean MAE : 0.6904\n",
      "------------\n",
      "------------\n"
     ]
    },
    {
     "data": {
      "text/plain": [
       "CaseInsensitiveDefaultDict(list,\n",
       "                           {'rmse': [0.8983984712470693,\n",
       "                             0.8929115578181098,\n",
       "                             0.9017972051535558,\n",
       "                             0.8933019166819605,\n",
       "                             0.8963099861256064],\n",
       "                            'mae': [0.6929892733837254,\n",
       "                             0.6923610026205265,\n",
       "                             0.6914788404998499,\n",
       "                             0.6874520083737728,\n",
       "                             0.6877846440257281]})"
      ]
     },
     "execution_count": 42,
     "metadata": {},
     "output_type": "execute_result"
    }
   ],
   "source": [
    "svd = SVD()\n",
    "evaluate(svd, data, measures=['RMSE', 'MAE'])"
   ]
  },
  {
   "cell_type": "markdown",
   "metadata": {
    "_uuid": "81f6d5f460d4cbaaa43b6bb86a0abd9bce1a3134"
   },
   "source": [
    "We get a mean Root Mean Sqaure Error of 0.89 approx which is more than good enough for our case. Let us now train on our dataset and arrive at predictions."
   ]
  },
  {
   "cell_type": "code",
   "execution_count": 43,
   "metadata": {
    "_uuid": "58007ee500ce1735d173c247d188a5cd603b803c",
    "execution": {
     "iopub.execute_input": "2022-12-04T03:02:12.001541Z",
     "iopub.status.busy": "2022-12-04T03:02:12.001158Z",
     "iopub.status.idle": "2022-12-04T03:02:19.838559Z",
     "shell.execute_reply": "2022-12-04T03:02:19.837567Z",
     "shell.execute_reply.started": "2022-12-04T03:02:12.001483Z"
    }
   },
   "outputs": [
    {
     "data": {
      "text/plain": [
       "<surprise.prediction_algorithms.matrix_factorization.SVD at 0x7fd66f81e860>"
      ]
     },
     "execution_count": 43,
     "metadata": {},
     "output_type": "execute_result"
    }
   ],
   "source": [
    "trainset = data.build_full_trainset()\n",
    "svd.fit(trainset)"
   ]
  },
  {
   "cell_type": "markdown",
   "metadata": {
    "_uuid": "e130ef65d2c6a59823869d5b08c44e96e06f3b94"
   },
   "source": [
    "Let us pick user with user Id 1  and check the ratings she/he has given."
   ]
  },
  {
   "cell_type": "code",
   "execution_count": 44,
   "metadata": {
    "_uuid": "5a526fddacb2f7234e524e71224fdd1aecdd6ec0",
    "execution": {
     "iopub.execute_input": "2022-12-04T03:02:25.852279Z",
     "iopub.status.busy": "2022-12-04T03:02:25.851549Z",
     "iopub.status.idle": "2022-12-04T03:02:25.873719Z",
     "shell.execute_reply": "2022-12-04T03:02:25.872759Z",
     "shell.execute_reply.started": "2022-12-04T03:02:25.851835Z"
    }
   },
   "outputs": [
    {
     "data": {
      "text/html": [
       "<div>\n",
       "<style scoped>\n",
       "    .dataframe tbody tr th:only-of-type {\n",
       "        vertical-align: middle;\n",
       "    }\n",
       "\n",
       "    .dataframe tbody tr th {\n",
       "        vertical-align: top;\n",
       "    }\n",
       "\n",
       "    .dataframe thead th {\n",
       "        text-align: right;\n",
       "    }\n",
       "</style>\n",
       "<table border=\"1\" class=\"dataframe\">\n",
       "  <thead>\n",
       "    <tr style=\"text-align: right;\">\n",
       "      <th></th>\n",
       "      <th>userId</th>\n",
       "      <th>movieId</th>\n",
       "      <th>rating</th>\n",
       "      <th>timestamp</th>\n",
       "    </tr>\n",
       "  </thead>\n",
       "  <tbody>\n",
       "    <tr>\n",
       "      <th>0</th>\n",
       "      <td>1</td>\n",
       "      <td>31</td>\n",
       "      <td>2.5</td>\n",
       "      <td>1260759144</td>\n",
       "    </tr>\n",
       "    <tr>\n",
       "      <th>1</th>\n",
       "      <td>1</td>\n",
       "      <td>1029</td>\n",
       "      <td>3.0</td>\n",
       "      <td>1260759179</td>\n",
       "    </tr>\n",
       "    <tr>\n",
       "      <th>2</th>\n",
       "      <td>1</td>\n",
       "      <td>1061</td>\n",
       "      <td>3.0</td>\n",
       "      <td>1260759182</td>\n",
       "    </tr>\n",
       "    <tr>\n",
       "      <th>3</th>\n",
       "      <td>1</td>\n",
       "      <td>1129</td>\n",
       "      <td>2.0</td>\n",
       "      <td>1260759185</td>\n",
       "    </tr>\n",
       "    <tr>\n",
       "      <th>4</th>\n",
       "      <td>1</td>\n",
       "      <td>1172</td>\n",
       "      <td>4.0</td>\n",
       "      <td>1260759205</td>\n",
       "    </tr>\n",
       "    <tr>\n",
       "      <th>5</th>\n",
       "      <td>1</td>\n",
       "      <td>1263</td>\n",
       "      <td>2.0</td>\n",
       "      <td>1260759151</td>\n",
       "    </tr>\n",
       "    <tr>\n",
       "      <th>6</th>\n",
       "      <td>1</td>\n",
       "      <td>1287</td>\n",
       "      <td>2.0</td>\n",
       "      <td>1260759187</td>\n",
       "    </tr>\n",
       "    <tr>\n",
       "      <th>7</th>\n",
       "      <td>1</td>\n",
       "      <td>1293</td>\n",
       "      <td>2.0</td>\n",
       "      <td>1260759148</td>\n",
       "    </tr>\n",
       "    <tr>\n",
       "      <th>8</th>\n",
       "      <td>1</td>\n",
       "      <td>1339</td>\n",
       "      <td>3.5</td>\n",
       "      <td>1260759125</td>\n",
       "    </tr>\n",
       "    <tr>\n",
       "      <th>9</th>\n",
       "      <td>1</td>\n",
       "      <td>1343</td>\n",
       "      <td>2.0</td>\n",
       "      <td>1260759131</td>\n",
       "    </tr>\n",
       "    <tr>\n",
       "      <th>10</th>\n",
       "      <td>1</td>\n",
       "      <td>1371</td>\n",
       "      <td>2.5</td>\n",
       "      <td>1260759135</td>\n",
       "    </tr>\n",
       "    <tr>\n",
       "      <th>11</th>\n",
       "      <td>1</td>\n",
       "      <td>1405</td>\n",
       "      <td>1.0</td>\n",
       "      <td>1260759203</td>\n",
       "    </tr>\n",
       "    <tr>\n",
       "      <th>12</th>\n",
       "      <td>1</td>\n",
       "      <td>1953</td>\n",
       "      <td>4.0</td>\n",
       "      <td>1260759191</td>\n",
       "    </tr>\n",
       "    <tr>\n",
       "      <th>13</th>\n",
       "      <td>1</td>\n",
       "      <td>2105</td>\n",
       "      <td>4.0</td>\n",
       "      <td>1260759139</td>\n",
       "    </tr>\n",
       "    <tr>\n",
       "      <th>14</th>\n",
       "      <td>1</td>\n",
       "      <td>2150</td>\n",
       "      <td>3.0</td>\n",
       "      <td>1260759194</td>\n",
       "    </tr>\n",
       "    <tr>\n",
       "      <th>15</th>\n",
       "      <td>1</td>\n",
       "      <td>2193</td>\n",
       "      <td>2.0</td>\n",
       "      <td>1260759198</td>\n",
       "    </tr>\n",
       "    <tr>\n",
       "      <th>16</th>\n",
       "      <td>1</td>\n",
       "      <td>2294</td>\n",
       "      <td>2.0</td>\n",
       "      <td>1260759108</td>\n",
       "    </tr>\n",
       "    <tr>\n",
       "      <th>17</th>\n",
       "      <td>1</td>\n",
       "      <td>2455</td>\n",
       "      <td>2.5</td>\n",
       "      <td>1260759113</td>\n",
       "    </tr>\n",
       "    <tr>\n",
       "      <th>18</th>\n",
       "      <td>1</td>\n",
       "      <td>2968</td>\n",
       "      <td>1.0</td>\n",
       "      <td>1260759200</td>\n",
       "    </tr>\n",
       "    <tr>\n",
       "      <th>19</th>\n",
       "      <td>1</td>\n",
       "      <td>3671</td>\n",
       "      <td>3.0</td>\n",
       "      <td>1260759117</td>\n",
       "    </tr>\n",
       "  </tbody>\n",
       "</table>\n",
       "</div>"
      ],
      "text/plain": [
       "    userId  movieId  rating   timestamp\n",
       "0        1       31     2.5  1260759144\n",
       "1        1     1029     3.0  1260759179\n",
       "2        1     1061     3.0  1260759182\n",
       "3        1     1129     2.0  1260759185\n",
       "4        1     1172     4.0  1260759205\n",
       "5        1     1263     2.0  1260759151\n",
       "6        1     1287     2.0  1260759187\n",
       "7        1     1293     2.0  1260759148\n",
       "8        1     1339     3.5  1260759125\n",
       "9        1     1343     2.0  1260759131\n",
       "10       1     1371     2.5  1260759135\n",
       "11       1     1405     1.0  1260759203\n",
       "12       1     1953     4.0  1260759191\n",
       "13       1     2105     4.0  1260759139\n",
       "14       1     2150     3.0  1260759194\n",
       "15       1     2193     2.0  1260759198\n",
       "16       1     2294     2.0  1260759108\n",
       "17       1     2455     2.5  1260759113\n",
       "18       1     2968     1.0  1260759200\n",
       "19       1     3671     3.0  1260759117"
      ]
     },
     "execution_count": 44,
     "metadata": {},
     "output_type": "execute_result"
    }
   ],
   "source": [
    "ratings[ratings['userId'] == 1]"
   ]
  },
  {
   "cell_type": "code",
   "execution_count": 45,
   "metadata": {
    "_uuid": "0cb981abe36b30f8f27b4c5dc1b1d0e090431651",
    "execution": {
     "iopub.execute_input": "2022-12-04T03:02:37.004518Z",
     "iopub.status.busy": "2022-12-04T03:02:37.004036Z",
     "iopub.status.idle": "2022-12-04T03:02:37.011470Z",
     "shell.execute_reply": "2022-12-04T03:02:37.009837Z",
     "shell.execute_reply.started": "2022-12-04T03:02:37.004439Z"
    }
   },
   "outputs": [
    {
     "data": {
      "text/plain": [
       "Prediction(uid=1, iid=302, r_ui=3, est=2.8003844861607226, details={'was_impossible': False})"
      ]
     },
     "execution_count": 45,
     "metadata": {},
     "output_type": "execute_result"
    }
   ],
   "source": [
    "svd.predict(1, 302, 3)"
   ]
  },
  {
   "cell_type": "markdown",
   "metadata": {
    "_uuid": "50cf59d88c55c17de150e6a84a190e179bec2d33"
   },
   "source": [
    "For movie with ID 302, we get an estimated prediction of **2.618**. One startling feature of this recommender system is that it doesn't care what the movie is (or what it contains). It works purely on the basis of an assigned movie ID and tries to predict ratings based on how the other users have predicted the movie."
   ]
  },
  {
   "cell_type": "markdown",
   "metadata": {
    "_uuid": "aece2ca6c5dcfcc8287562733f74a31fa115605c"
   },
   "source": [
    "## **Conclusion** \n",
    "We create recommenders using demographic , content- based and collaborative filtering. While demographic filtering is very elemantary and cannot be used practically, **Hybrid Systems** can take advantage of content-based and collaborative filtering as the two approaches are proved to be almost complimentary.\n",
    "This model was very baseline and only provides a fundamental framework to start with.\n",
    "\n",
    "I would like to mention some excellent refereces that I learned from\n",
    "1. [https://hackernoon.com/introduction-to-recommender-system-part-1-collaborative-filtering-singular-value-decomposition-44c9659c5e75](https://hackernoon.com/introduction-to-recommender-system-part-1-collaborative-filtering-singular-value-decomposition-44c9659c5e75)\n",
    "2. [https://www.kaggle.com/rounakbanik/movie-recommender-systems](https://www.kaggle.com/rounakbanik/movie-recommender-systems)\n",
    "3. [http://trouvus.com/wp-content/uploads/2016/03/A-hybrid-movie-recommender-system-based-on-neural-networks.pdf](http://trouvus.com/wp-content/uploads/2016/03/A-hybrid-movie-recommender-system-based-on-neural-networks.pdf)\n",
    "\n",
    "If you enjoyed reading the kernel , hit the upvote button !\n",
    "Please leave the feedback or suggestions below. "
   ]
  },
  {
   "cell_type": "markdown",
   "metadata": {},
   "source": [
    "This Notebook was based on the [Getting Started with a Movie Recommendation System](https://www.kaggle.com/code/ibtesama/getting-started-with-a-movie-recommendation-system). It was modified to be used at the RDU ChickTech High School program in December of 2022."
   ]
  },
  {
   "cell_type": "markdown",
   "metadata": {
    "_cell_guid": "79c7e3d0-c299-4dcb-8224-4455121ee9b0",
    "_uuid": "d629ff2d2480ee46fbb7e2d37f6b5fab8052498a"
   },
   "source": [
    "The rapid growth of data collection has led to a new era of information. Data is being used to create more efficient systems and this is where Recommendation Systems come into play.  Recommendation Systems are a type of **information filtering systems** as they improve the quality of search results and provides items that are more relevant to the search item or are realted to the search history of the user.  \n"
   ]
  },
  {
   "cell_type": "markdown",
   "metadata": {
    "_uuid": "65dbae55f1e6e06c5fa7251f8ddae887d3fbf480"
   },
   "source": [
    "They are used to predict the **rating** or **preference** that a user would give to an item. Almost every major tech company has applied them in some form or the other: Amazon uses it to suggest products to customers, YouTube uses it to decide which video to play next on autoplay, and Facebook uses it to recommend pages to like and people to follow. \n",
    "Moreover,  companies like Netflix and Spotify  depend highly on the effectiveness of their recommendation engines for their business and sucees."
   ]
  },
  {
   "cell_type": "markdown",
   "metadata": {
    "_uuid": "af1e8d514096cde4abeae2d65a44cfdb01228d77"
   },
   "source": [
    "![](https://i.kinja-img.com/gawker-media/image/upload/s--e3_2HgIC--/c_scale,f_auto,fl_progressive,q_80,w_800/1259003599478673704.jpg)"
   ]
  },
  {
   "cell_type": "markdown",
   "metadata": {
    "_uuid": "f34fc4dcfba717692c620e1fdfa502ee910c6365"
   },
   "source": [
    "In this kernel we'll be building a baseline Movie Recommendation System using [TMDB 5000 Movie Dataset](https://www.kaggle.com/tmdb/tmdb-movie-metadata). For novices like me this kernel will pretty much serve as a foundation in recommendation systems and will provide you with something to start with. "
   ]
  },
  {
   "cell_type": "markdown",
   "metadata": {
    "_uuid": "1fa8fc3cb8348853bb51472b248134a59c24bf60"
   },
   "source": [
    "**So let's go!**"
   ]
  },
  {
   "cell_type": "markdown",
   "metadata": {
    "_uuid": "f9a9405b7e81c1da449bd2e96c2849fb86caa614"
   },
   "source": [
    "There are basically three types of recommender systems:-\n",
    "\n",
    "> *  **Demographic Filtering**- They offer generalized recommendations to every user, based on movie popularity and/or genre. The System recommends the same movies to users with similar demographic features. Since each user is different , this approach is considered to be too simple. The basic idea behind this system is that movies that are more popular and critically acclaimed will have a higher probability of being liked by the average audience."
   ]
  },
  {
   "cell_type": "markdown",
   "metadata": {
    "_uuid": "60a2df15abf82ba21918e3a42cb0ee46d22fa764"
   },
   "source": [
    "> *  **Content Based Filtering**- They suggest similar items based on a particular item. This system uses item metadata, such as genre, director, description, actors, etc. for movies, to make these recommendations. The general idea behind these recommender systems is that if a person liked a particular item, he or she will also like an item that is similar to it."
   ]
  },
  {
   "cell_type": "markdown",
   "metadata": {
    "_uuid": "b7e719fcc502c59f098a51ae35e2ceb6d7cdfe4e"
   },
   "source": [
    "> *  **Collaborative Filtering**- This system matches persons with similar interests and provides recommendations based on this matching. Collaborative filters do not require item metadata like its content-based counterparts."
   ]
  }
 ],
 "metadata": {
  "kernelspec": {
   "display_name": "Python 3",
   "language": "python",
   "name": "python3"
  },
  "language_info": {
   "codemirror_mode": {
    "name": "ipython",
    "version": 3
   },
   "file_extension": ".py",
   "mimetype": "text/x-python",
   "name": "python",
   "nbconvert_exporter": "python",
   "pygments_lexer": "ipython3",
   "version": "3.6.4"
  }
 },
 "nbformat": 4,
 "nbformat_minor": 4
}
